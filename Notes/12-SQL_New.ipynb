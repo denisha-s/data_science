{
 "cells": [
  {
   "cell_type": "markdown",
   "metadata": {
    "collapsed": true,
    "slideshow": {
     "slide_type": "slide"
    }
   },
   "source": [
    "##### CSCI 303\n",
    "# Introduction to Data Science\n",
    "<p/>\n",
    "\n",
    "### 12 - Working with SQL Databases (1)\n",
    "\n",
    "![Relational database icon](sql.png)"
   ]
  },
  {
   "cell_type": "markdown",
   "metadata": {
    "slideshow": {
     "slide_type": "slide"
    }
   },
   "source": [
    "## This Lecture\n",
    "---\n",
    "- Relational database basic concepts\n",
    "- Basic SQL retrieval queries\n",
    "- Connecting to SQL databases from Python"
   ]
  },
  {
   "cell_type": "markdown",
   "metadata": {
    "slideshow": {
     "slide_type": "slide"
    }
   },
   "source": [
    "## Databases\n",
    "---\n",
    "At the most general level, a *database* is simply a store of data together with some mechanism for retrieving and modifying the data.\n",
    "\n",
    "The dominant database model since about 1980 has been the *relational* model."
   ]
  },
  {
   "cell_type": "markdown",
   "metadata": {
    "slideshow": {
     "slide_type": "subslide"
    }
   },
   "source": [
    "SQL is a standardized language for manipulating and retrieving data from relational databases.\n",
    "\n",
    "While new database types are cropping up, especially in a Big Data context, many frameworks for working with Big Data use variants of SQL or concepts borrowed from SQL (e.g., joining, grouping, etc.)\n",
    "\n",
    "An awful lot of data lives in databases; you need to know at least a little SQL to get at this data!"
   ]
  },
  {
   "cell_type": "markdown",
   "metadata": {
    "slideshow": {
     "slide_type": "slide"
    }
   },
   "source": [
    "## The Relational Database\n",
    "---\n",
    "We won't get too heavy into the theory.\n",
    "\n",
    "Basically, data is stored in tables, also called *relations*.\n",
    "\n",
    "Tables contain rows of data, sometimes called *tuples*.\n",
    "\n",
    "Each row of data is organized into the same set of named columns, or *attributes*. "
   ]
  },
  {
   "cell_type": "markdown",
   "metadata": {
    "slideshow": {
     "slide_type": "subslide"
    }
   },
   "source": [
    "A table named **employees** might look like this:\n",
    "\n",
    "\n",
    "| name    | age | salary |\n",
    "|---------|-----|--------|\n",
    "|Laura    | 43  | 102760 |\n",
    "|Shashi   | 49  |  83010 |\n",
    "|Raluca   | 33  |  95500 |\n",
    "\n",
    "A relational database might contain many named tables (and other objects which behave just like tables)."
   ]
  },
  {
   "cell_type": "markdown",
   "metadata": {
    "slideshow": {
     "slide_type": "subslide"
    }
   },
   "source": [
    "**Note:** Rows in a table are not ordered in any fashion.\n",
    "\n",
    "In fact, the order can change from one query to the next (although it usually doesn't unless the data has also changed).\n",
    "\n",
    "You can impose an order on the data by sorting on one or more columns (a topic for next time)."
   ]
  },
  {
   "cell_type": "markdown",
   "metadata": {
    "slideshow": {
     "slide_type": "slide"
    }
   },
   "source": [
    "## SQL\n",
    "---\n",
    "SQL is the language used to \"talk to\" relational databases.\n",
    "\n",
    "It is more or less standardized; each database vendor has its own dialect, but if you learn one, you can usually work with any other SQL database."
   ]
  },
  {
   "cell_type": "markdown",
   "metadata": {
    "slideshow": {
     "slide_type": "subslide"
    }
   },
   "source": [
    "SQL is a declarative, rather than imperative language.\n",
    "\n",
    "- You don't tell the database what to *do*\n",
    "- You tell the database what you *want*\n",
    "\n",
    "To ask the database for something, you issue a *query* in SQL.\n",
    "\n",
    "Example:\n",
    "\n",
    "```SELECT name FROM employees WHERE age < 40;```\n",
    "\n",
    "which means, \"I want the name data from the employees table for employees whose age is less than 40\""
   ]
  },
  {
   "cell_type": "markdown",
   "metadata": {
    "slideshow": {
     "slide_type": "slide"
    }
   },
   "source": [
    "## Retrieval\n",
    "---\n",
    "We will focus on retrieval queries in this course.\n",
    "\n",
    "To learn how to store and manipulate data in SQL, take CSCI 403!"
   ]
  },
  {
   "cell_type": "markdown",
   "metadata": {
    "slideshow": {
     "slide_type": "subslide"
    }
   },
   "source": [
    "The mechanism for retrieving data from a relational database is the SELECT query.\n",
    "\n",
    "We saw an example of this already:\n",
    "\n",
    "```SELECT name FROM employees WHERE age < 40;```"
   ]
  },
  {
   "cell_type": "markdown",
   "metadata": {
    "slideshow": {
     "slide_type": "subslide"
    }
   },
   "source": [
    "Recalling our table above:\n",
    "\n",
    "| name    | age | salary |\n",
    "|---------|-----|--------|\n",
    "|Laura    | 43  | 102760 |\n",
    "|Shashi   | 49  |  83010 |\n",
    "|Raluca   | 33  |  95500 |\n",
    "\n",
    "\n",
    "the query `SELECT name FROM employees WHERE age < 40;` results in something much like an anonymous table; a subset of rows and columns from the employees table:\n",
    "\n",
    "| name   |\n",
    "|--------|\n",
    "| Raluca |"
   ]
  },
  {
   "cell_type": "markdown",
   "metadata": {
    "slideshow": {
     "slide_type": "subslide"
    }
   },
   "source": [
    "You can probably infer the basic form already:\n",
    "\n",
    "```\n",
    "SELECT column1, column2, ...\n",
    "FROM table\n",
    "WHERE condition;\n",
    "```\n",
    "\n",
    "The WHERE clause is optional - omit it to get all rows.\n",
    "\n",
    "If you want all columns, a shortcut is to use * in place of column names:\n",
    "\n",
    "```\n",
    "SELECT * FROM table WHERE condition;```"
   ]
  },
  {
   "cell_type": "markdown",
   "metadata": {
    "slideshow": {
     "slide_type": "subslide"
    }
   },
   "source": [
    "The WHERE clause condition can be any Boolean expression, and can use column names in the expression, such as\n",
    "\n",
    "```age < 40```\n",
    "\n",
    "You can also make compound expressions using AND, OR and NOT:\n",
    "\n",
    "```\n",
    "SELECT * FROM employees\n",
    "WHERE age > 40 AND salary < 100000 OR name = 'Raluca';```"
   ]
  },
  {
   "cell_type": "markdown",
   "metadata": {
    "slideshow": {
     "slide_type": "subslide"
    }
   },
   "source": [
    "There are many other refinements to explore, such as applying various functions to columns, doing string matching, and dealing with NULL values.\n",
    "\n",
    "More on all that next time.\n",
    "\n",
    "One last note: SQL is *not* case sensitive.  These queries mean exactly the same thing:\n",
    "\n",
    "```SELECT name FROM employees WHERE age < 40;```\n",
    "\n",
    "```Select name From employees Where age < 40;```\n",
    "\n",
    "```select NAME from EMPLOYEES where AGE < 40;```"
   ]
  },
  {
   "cell_type": "markdown",
   "metadata": {
    "slideshow": {
     "slide_type": "slide"
    }
   },
   "source": [
    "## On To Coding!\n",
    "---\n",
    "The obligatory setup code..."
   ]
  },
  {
   "cell_type": "code",
   "execution_count": 1,
   "metadata": {},
   "outputs": [],
   "source": [
    "import numpy as np\n",
    "import pandas as pd\n",
    "\n",
    "from pandas import Series, DataFrame"
   ]
  },
  {
   "cell_type": "markdown",
   "metadata": {
    "slideshow": {
     "slide_type": "slide"
    }
   },
   "source": [
    "## Raw Python DB Access\n",
    "---\n",
    "You can access pretty much any relational database via modules specific to the database vendor.\n",
    "\n",
    "Conveniently, these follow a standard, so the same methods work on pretty much all of them.\n",
    "\n",
    "The API is pretty simple.\n",
    "\n",
    "Here's an example, connecting to a database I created for this class."
   ]
  },
  {
   "cell_type": "code",
   "execution_count": 2,
   "metadata": {
    "slideshow": {
     "slide_type": "subslide"
    }
   },
   "outputs": [],
   "source": [
    "import sqlite3   # We'll be using a simple file-based SQLite3 database\n",
    "\n",
    "# You will need the csci303.sqlite3 file - put it in the same directory\n",
    "# as this notebook.\n",
    "\n",
    "try:\n",
    "    db = sqlite3.connect('csci303.sqlite3')\n",
    "    cursor = db.cursor()\n",
    "except sqlite3.Error as e:\n",
    "    print(e)"
   ]
  },
  {
   "cell_type": "code",
   "execution_count": 3,
   "metadata": {
    "slideshow": {
     "slide_type": "subslide"
    }
   },
   "outputs": [
    {
     "name": "stdout",
     "output_type": "stream",
     "text": [
      "('Laura', 43, 102760)\n",
      "('Shashi', 49, 83010)\n",
      "('Raluca', 33, 95500)\n"
     ]
    }
   ],
   "source": [
    "try:\n",
    "    # issue a query\n",
    "    cursor.execute('SELECT * FROM employees')\n",
    "except sqlite3.Error as e:\n",
    "    # handle oopsies\n",
    "    print(e)\n",
    "    db.rollback()\n",
    "\n",
    "# get results of query\n",
    "for r in cursor.fetchall():\n",
    "    print(r)"
   ]
  },
  {
   "cell_type": "markdown",
   "metadata": {
    "slideshow": {
     "slide_type": "subslide"
    }
   },
   "source": [
    "The exception handling code is not essential, but will save you some time if you mess up.\n",
    "\n",
    "It will a) tell you what you did wrong and b) give you a chance to clear the errors by issuing a rollback.\n",
    "\n",
    "Example:"
   ]
  },
  {
   "cell_type": "code",
   "execution_count": 4,
   "metadata": {
    "slideshow": {
     "slide_type": "-"
    }
   },
   "outputs": [
    {
     "name": "stdout",
     "output_type": "stream",
     "text": [
      "no such column: arglebargle\n"
     ]
    }
   ],
   "source": [
    "try:\n",
    "    results = cursor.execute('SELECT arglebargle FROM employees')\n",
    "except sqlite3.Error as e:\n",
    "    print(e)\n",
    "    db.rollback()"
   ]
  },
  {
   "cell_type": "markdown",
   "metadata": {
    "slideshow": {
     "slide_type": "subslide"
    }
   },
   "source": [
    "Of course, what we really want is to get the data into a pandas DataFrame so we can manipulate it further."
   ]
  },
  {
   "cell_type": "code",
   "execution_count": 5,
   "metadata": {},
   "outputs": [
    {
     "data": {
      "text/html": [
       "<div>\n",
       "<style scoped>\n",
       "    .dataframe tbody tr th:only-of-type {\n",
       "        vertical-align: middle;\n",
       "    }\n",
       "\n",
       "    .dataframe tbody tr th {\n",
       "        vertical-align: top;\n",
       "    }\n",
       "\n",
       "    .dataframe thead th {\n",
       "        text-align: right;\n",
       "    }\n",
       "</style>\n",
       "<table border=\"1\" class=\"dataframe\">\n",
       "  <thead>\n",
       "    <tr style=\"text-align: right;\">\n",
       "      <th></th>\n",
       "      <th>0</th>\n",
       "      <th>1</th>\n",
       "      <th>2</th>\n",
       "    </tr>\n",
       "  </thead>\n",
       "  <tbody>\n",
       "    <tr>\n",
       "      <th>0</th>\n",
       "      <td>Laura</td>\n",
       "      <td>43</td>\n",
       "      <td>102760</td>\n",
       "    </tr>\n",
       "    <tr>\n",
       "      <th>1</th>\n",
       "      <td>Shashi</td>\n",
       "      <td>49</td>\n",
       "      <td>83010</td>\n",
       "    </tr>\n",
       "    <tr>\n",
       "      <th>2</th>\n",
       "      <td>Raluca</td>\n",
       "      <td>33</td>\n",
       "      <td>95500</td>\n",
       "    </tr>\n",
       "  </tbody>\n",
       "</table>\n",
       "</div>"
      ],
      "text/plain": [
       "        0   1       2\n",
       "0   Laura  43  102760\n",
       "1  Shashi  49   83010\n",
       "2  Raluca  33   95500"
      ]
     },
     "execution_count": 5,
     "metadata": {},
     "output_type": "execute_result"
    }
   ],
   "source": [
    "cursor.execute('SELECT * FROM employees')\n",
    "DataFrame(cursor.fetchall())"
   ]
  },
  {
   "cell_type": "markdown",
   "metadata": {
    "slideshow": {
     "slide_type": "subslide"
    }
   },
   "source": [
    "Note, we unfortunately didn't get the column names.\n",
    "\n",
    "We can get them from the cursor's `description` property."
   ]
  },
  {
   "cell_type": "code",
   "execution_count": 6,
   "metadata": {},
   "outputs": [
    {
     "data": {
      "text/plain": [
       "(('name', None, None, None, None, None, None),\n",
       " ('age', None, None, None, None, None, None),\n",
       " ('salary', None, None, None, None, None, None))"
      ]
     },
     "execution_count": 6,
     "metadata": {},
     "output_type": "execute_result"
    }
   ],
   "source": [
    "cursor.description"
   ]
  },
  {
   "cell_type": "code",
   "execution_count": 7,
   "metadata": {
    "slideshow": {
     "slide_type": "subslide"
    }
   },
   "outputs": [
    {
     "data": {
      "text/html": [
       "<div>\n",
       "<style scoped>\n",
       "    .dataframe tbody tr th:only-of-type {\n",
       "        vertical-align: middle;\n",
       "    }\n",
       "\n",
       "    .dataframe tbody tr th {\n",
       "        vertical-align: top;\n",
       "    }\n",
       "\n",
       "    .dataframe thead th {\n",
       "        text-align: right;\n",
       "    }\n",
       "</style>\n",
       "<table border=\"1\" class=\"dataframe\">\n",
       "  <thead>\n",
       "    <tr style=\"text-align: right;\">\n",
       "      <th></th>\n",
       "      <th>name</th>\n",
       "      <th>age</th>\n",
       "      <th>salary</th>\n",
       "    </tr>\n",
       "  </thead>\n",
       "  <tbody>\n",
       "    <tr>\n",
       "      <th>0</th>\n",
       "      <td>Laura</td>\n",
       "      <td>43</td>\n",
       "      <td>102760</td>\n",
       "    </tr>\n",
       "    <tr>\n",
       "      <th>1</th>\n",
       "      <td>Shashi</td>\n",
       "      <td>49</td>\n",
       "      <td>83010</td>\n",
       "    </tr>\n",
       "    <tr>\n",
       "      <th>2</th>\n",
       "      <td>Raluca</td>\n",
       "      <td>33</td>\n",
       "      <td>95500</td>\n",
       "    </tr>\n",
       "  </tbody>\n",
       "</table>\n",
       "</div>"
      ],
      "text/plain": [
       "     name  age  salary\n",
       "0   Laura   43  102760\n",
       "1  Shashi   49   83010\n",
       "2  Raluca   33   95500"
      ]
     },
     "execution_count": 7,
     "metadata": {},
     "output_type": "execute_result"
    }
   ],
   "source": [
    "cursor.execute('SELECT * FROM employees') \n",
    "DataFrame(cursor.fetchall(), columns=[r[0] for r in cursor.description])"
   ]
  },
  {
   "cell_type": "markdown",
   "metadata": {
    "slideshow": {
     "slide_type": "subslide"
    }
   },
   "source": [
    "Another example... I loaded the Boston Housing dataset into the database as the table 'boston':"
   ]
  },
  {
   "cell_type": "code",
   "execution_count": 8,
   "metadata": {},
   "outputs": [
    {
     "data": {
      "text/html": [
       "<div>\n",
       "<style scoped>\n",
       "    .dataframe tbody tr th:only-of-type {\n",
       "        vertical-align: middle;\n",
       "    }\n",
       "\n",
       "    .dataframe tbody tr th {\n",
       "        vertical-align: top;\n",
       "    }\n",
       "\n",
       "    .dataframe thead th {\n",
       "        text-align: right;\n",
       "    }\n",
       "</style>\n",
       "<table border=\"1\" class=\"dataframe\">\n",
       "  <thead>\n",
       "    <tr style=\"text-align: right;\">\n",
       "      <th></th>\n",
       "      <th>crim</th>\n",
       "      <th>indus</th>\n",
       "      <th>rm</th>\n",
       "      <th>medv</th>\n",
       "    </tr>\n",
       "  </thead>\n",
       "  <tbody>\n",
       "    <tr>\n",
       "      <th>0</th>\n",
       "      <td>0.13158</td>\n",
       "      <td>10.01</td>\n",
       "      <td>6.176</td>\n",
       "      <td>21.2</td>\n",
       "    </tr>\n",
       "    <tr>\n",
       "      <th>1</th>\n",
       "      <td>0.15098</td>\n",
       "      <td>10.01</td>\n",
       "      <td>6.021</td>\n",
       "      <td>19.2</td>\n",
       "    </tr>\n",
       "    <tr>\n",
       "      <th>2</th>\n",
       "      <td>0.13058</td>\n",
       "      <td>10.01</td>\n",
       "      <td>5.872</td>\n",
       "      <td>20.4</td>\n",
       "    </tr>\n",
       "    <tr>\n",
       "      <th>3</th>\n",
       "      <td>0.14476</td>\n",
       "      <td>10.01</td>\n",
       "      <td>5.731</td>\n",
       "      <td>19.3</td>\n",
       "    </tr>\n",
       "    <tr>\n",
       "      <th>4</th>\n",
       "      <td>0.06899</td>\n",
       "      <td>25.65</td>\n",
       "      <td>5.870</td>\n",
       "      <td>22.0</td>\n",
       "    </tr>\n",
       "    <tr>\n",
       "      <th>5</th>\n",
       "      <td>0.07165</td>\n",
       "      <td>25.65</td>\n",
       "      <td>6.004</td>\n",
       "      <td>20.3</td>\n",
       "    </tr>\n",
       "    <tr>\n",
       "      <th>6</th>\n",
       "      <td>0.08447</td>\n",
       "      <td>4.05</td>\n",
       "      <td>5.859</td>\n",
       "      <td>22.6</td>\n",
       "    </tr>\n",
       "    <tr>\n",
       "      <th>7</th>\n",
       "      <td>0.06664</td>\n",
       "      <td>4.05</td>\n",
       "      <td>6.546</td>\n",
       "      <td>29.4</td>\n",
       "    </tr>\n",
       "    <tr>\n",
       "      <th>8</th>\n",
       "      <td>0.07022</td>\n",
       "      <td>4.05</td>\n",
       "      <td>6.020</td>\n",
       "      <td>23.2</td>\n",
       "    </tr>\n",
       "    <tr>\n",
       "      <th>9</th>\n",
       "      <td>0.05425</td>\n",
       "      <td>4.05</td>\n",
       "      <td>6.315</td>\n",
       "      <td>24.6</td>\n",
       "    </tr>\n",
       "  </tbody>\n",
       "</table>\n",
       "</div>"
      ],
      "text/plain": [
       "      crim  indus     rm  medv\n",
       "0  0.13158  10.01  6.176  21.2\n",
       "1  0.15098  10.01  6.021  19.2\n",
       "2  0.13058  10.01  5.872  20.4\n",
       "3  0.14476  10.01  5.731  19.3\n",
       "4  0.06899  25.65  5.870  22.0\n",
       "5  0.07165  25.65  6.004  20.3\n",
       "6  0.08447   4.05  5.859  22.6\n",
       "7  0.06664   4.05  6.546  29.4\n",
       "8  0.07022   4.05  6.020  23.2\n",
       "9  0.05425   4.05  6.315  24.6"
      ]
     },
     "execution_count": 8,
     "metadata": {},
     "output_type": "execute_result"
    }
   ],
   "source": [
    "cursor.execute('SELECT crim, indus, rm, medv FROM boston') # this gets the crim, indus, rm, and medv data from boston database\n",
    "DataFrame(cursor.fetchall(), columns=[r[0] for r in cursor.description])[:10] # and this puts those values into a DataFrame"
   ]
  },
  {
   "cell_type": "markdown",
   "metadata": {
    "slideshow": {
     "slide_type": "slide"
    }
   },
   "source": [
    "## Cleaning Up\n",
    "---\n",
    "It is probably a good idea to close your database connections when you no longer need them.\n",
    "\n",
    "Python will close them for you when you stop the kernel for your notebook, but if you leave it running, the database connection will live on..."
   ]
  },
  {
   "cell_type": "code",
   "execution_count": 9,
   "metadata": {},
   "outputs": [],
   "source": [
    "# use .close() to close database connections\n",
    "cursor.close()\n",
    "db.close()"
   ]
  },
  {
   "cell_type": "markdown",
   "metadata": {
    "slideshow": {
     "slide_type": "slide"
    }
   },
   "source": [
    "## The pandas Shortcut\n",
    "---\n",
    "Since:\n",
    "\n",
    "- We frequently want data from SQL databases\n",
    "- We further want to convert data to a DataFrame\n",
    "- pandas is designed to make our lives easier\n",
    "\n",
    "it follow that pandas should provide an easy way to get data from a SQL database into a DataFrame.\n",
    "\n",
    "And thus it does."
   ]
  },
  {
   "cell_type": "markdown",
   "metadata": {
    "slideshow": {
     "slide_type": "slide"
    }
   },
   "source": [
    "We can issue specific SELECT queries via `pandas.read_sql_query`:"
   ]
  },
  {
   "cell_type": "code",
   "execution_count": 10,
   "metadata": {
    "slideshow": {
     "slide_type": "-"
    }
   },
   "outputs": [
    {
     "data": {
      "text/html": [
       "<div>\n",
       "<style scoped>\n",
       "    .dataframe tbody tr th:only-of-type {\n",
       "        vertical-align: middle;\n",
       "    }\n",
       "\n",
       "    .dataframe tbody tr th {\n",
       "        vertical-align: top;\n",
       "    }\n",
       "\n",
       "    .dataframe thead th {\n",
       "        text-align: right;\n",
       "    }\n",
       "</style>\n",
       "<table border=\"1\" class=\"dataframe\">\n",
       "  <thead>\n",
       "    <tr style=\"text-align: right;\">\n",
       "      <th></th>\n",
       "      <th>crim</th>\n",
       "      <th>zn</th>\n",
       "      <th>indus</th>\n",
       "      <th>chas</th>\n",
       "      <th>nox</th>\n",
       "      <th>rm</th>\n",
       "      <th>age</th>\n",
       "      <th>dis</th>\n",
       "      <th>rad</th>\n",
       "      <th>tax</th>\n",
       "      <th>ptratio</th>\n",
       "      <th>b</th>\n",
       "      <th>lstat</th>\n",
       "      <th>medv</th>\n",
       "    </tr>\n",
       "  </thead>\n",
       "  <tbody>\n",
       "    <tr>\n",
       "      <th>0</th>\n",
       "      <td>3.32105</td>\n",
       "      <td>0.0</td>\n",
       "      <td>19.58</td>\n",
       "      <td>1</td>\n",
       "      <td>0.871</td>\n",
       "      <td>5.403</td>\n",
       "      <td>100.0</td>\n",
       "      <td>1.3216</td>\n",
       "      <td>5.0</td>\n",
       "      <td>403.0</td>\n",
       "      <td>14.7</td>\n",
       "      <td>396.90</td>\n",
       "      <td>26.82</td>\n",
       "      <td>13.4</td>\n",
       "    </tr>\n",
       "    <tr>\n",
       "      <th>1</th>\n",
       "      <td>1.12658</td>\n",
       "      <td>0.0</td>\n",
       "      <td>19.58</td>\n",
       "      <td>1</td>\n",
       "      <td>0.871</td>\n",
       "      <td>5.012</td>\n",
       "      <td>88.0</td>\n",
       "      <td>1.6102</td>\n",
       "      <td>5.0</td>\n",
       "      <td>403.0</td>\n",
       "      <td>14.7</td>\n",
       "      <td>343.28</td>\n",
       "      <td>12.12</td>\n",
       "      <td>15.3</td>\n",
       "    </tr>\n",
       "    <tr>\n",
       "      <th>2</th>\n",
       "      <td>1.41385</td>\n",
       "      <td>0.0</td>\n",
       "      <td>19.58</td>\n",
       "      <td>1</td>\n",
       "      <td>0.871</td>\n",
       "      <td>6.129</td>\n",
       "      <td>96.0</td>\n",
       "      <td>1.7494</td>\n",
       "      <td>5.0</td>\n",
       "      <td>403.0</td>\n",
       "      <td>14.7</td>\n",
       "      <td>321.02</td>\n",
       "      <td>15.12</td>\n",
       "      <td>17.0</td>\n",
       "    </tr>\n",
       "    <tr>\n",
       "      <th>3</th>\n",
       "      <td>3.53501</td>\n",
       "      <td>0.0</td>\n",
       "      <td>19.58</td>\n",
       "      <td>1</td>\n",
       "      <td>0.871</td>\n",
       "      <td>6.152</td>\n",
       "      <td>82.6</td>\n",
       "      <td>1.7455</td>\n",
       "      <td>5.0</td>\n",
       "      <td>403.0</td>\n",
       "      <td>14.7</td>\n",
       "      <td>88.01</td>\n",
       "      <td>15.02</td>\n",
       "      <td>15.6</td>\n",
       "    </tr>\n",
       "    <tr>\n",
       "      <th>4</th>\n",
       "      <td>1.27346</td>\n",
       "      <td>0.0</td>\n",
       "      <td>19.58</td>\n",
       "      <td>1</td>\n",
       "      <td>0.605</td>\n",
       "      <td>6.250</td>\n",
       "      <td>92.6</td>\n",
       "      <td>1.7984</td>\n",
       "      <td>5.0</td>\n",
       "      <td>403.0</td>\n",
       "      <td>14.7</td>\n",
       "      <td>338.92</td>\n",
       "      <td>5.50</td>\n",
       "      <td>27.0</td>\n",
       "    </tr>\n",
       "    <tr>\n",
       "      <th>5</th>\n",
       "      <td>1.83377</td>\n",
       "      <td>0.0</td>\n",
       "      <td>19.58</td>\n",
       "      <td>1</td>\n",
       "      <td>0.605</td>\n",
       "      <td>7.802</td>\n",
       "      <td>98.2</td>\n",
       "      <td>2.0407</td>\n",
       "      <td>5.0</td>\n",
       "      <td>403.0</td>\n",
       "      <td>14.7</td>\n",
       "      <td>389.61</td>\n",
       "      <td>1.92</td>\n",
       "      <td>50.0</td>\n",
       "    </tr>\n",
       "    <tr>\n",
       "      <th>6</th>\n",
       "      <td>1.51902</td>\n",
       "      <td>0.0</td>\n",
       "      <td>19.58</td>\n",
       "      <td>1</td>\n",
       "      <td>0.605</td>\n",
       "      <td>8.375</td>\n",
       "      <td>93.9</td>\n",
       "      <td>2.1620</td>\n",
       "      <td>5.0</td>\n",
       "      <td>403.0</td>\n",
       "      <td>14.7</td>\n",
       "      <td>388.45</td>\n",
       "      <td>3.32</td>\n",
       "      <td>50.0</td>\n",
       "    </tr>\n",
       "    <tr>\n",
       "      <th>7</th>\n",
       "      <td>0.13587</td>\n",
       "      <td>0.0</td>\n",
       "      <td>10.59</td>\n",
       "      <td>1</td>\n",
       "      <td>0.489</td>\n",
       "      <td>6.064</td>\n",
       "      <td>59.1</td>\n",
       "      <td>4.2392</td>\n",
       "      <td>4.0</td>\n",
       "      <td>277.0</td>\n",
       "      <td>18.6</td>\n",
       "      <td>381.32</td>\n",
       "      <td>14.66</td>\n",
       "      <td>24.4</td>\n",
       "    </tr>\n",
       "    <tr>\n",
       "      <th>8</th>\n",
       "      <td>0.43571</td>\n",
       "      <td>0.0</td>\n",
       "      <td>10.59</td>\n",
       "      <td>1</td>\n",
       "      <td>0.489</td>\n",
       "      <td>5.344</td>\n",
       "      <td>100.0</td>\n",
       "      <td>3.8750</td>\n",
       "      <td>4.0</td>\n",
       "      <td>277.0</td>\n",
       "      <td>18.6</td>\n",
       "      <td>396.90</td>\n",
       "      <td>23.09</td>\n",
       "      <td>20.0</td>\n",
       "    </tr>\n",
       "    <tr>\n",
       "      <th>9</th>\n",
       "      <td>0.17446</td>\n",
       "      <td>0.0</td>\n",
       "      <td>10.59</td>\n",
       "      <td>1</td>\n",
       "      <td>0.489</td>\n",
       "      <td>5.960</td>\n",
       "      <td>92.1</td>\n",
       "      <td>3.8771</td>\n",
       "      <td>4.0</td>\n",
       "      <td>277.0</td>\n",
       "      <td>18.6</td>\n",
       "      <td>393.25</td>\n",
       "      <td>17.27</td>\n",
       "      <td>21.7</td>\n",
       "    </tr>\n",
       "  </tbody>\n",
       "</table>\n",
       "</div>"
      ],
      "text/plain": [
       "      crim   zn  indus  chas    nox     rm    age     dis  rad    tax  \\\n",
       "0  3.32105  0.0  19.58     1  0.871  5.403  100.0  1.3216  5.0  403.0   \n",
       "1  1.12658  0.0  19.58     1  0.871  5.012   88.0  1.6102  5.0  403.0   \n",
       "2  1.41385  0.0  19.58     1  0.871  6.129   96.0  1.7494  5.0  403.0   \n",
       "3  3.53501  0.0  19.58     1  0.871  6.152   82.6  1.7455  5.0  403.0   \n",
       "4  1.27346  0.0  19.58     1  0.605  6.250   92.6  1.7984  5.0  403.0   \n",
       "5  1.83377  0.0  19.58     1  0.605  7.802   98.2  2.0407  5.0  403.0   \n",
       "6  1.51902  0.0  19.58     1  0.605  8.375   93.9  2.1620  5.0  403.0   \n",
       "7  0.13587  0.0  10.59     1  0.489  6.064   59.1  4.2392  4.0  277.0   \n",
       "8  0.43571  0.0  10.59     1  0.489  5.344  100.0  3.8750  4.0  277.0   \n",
       "9  0.17446  0.0  10.59     1  0.489  5.960   92.1  3.8771  4.0  277.0   \n",
       "\n",
       "   ptratio       b  lstat  medv  \n",
       "0     14.7  396.90  26.82  13.4  \n",
       "1     14.7  343.28  12.12  15.3  \n",
       "2     14.7  321.02  15.12  17.0  \n",
       "3     14.7   88.01  15.02  15.6  \n",
       "4     14.7  338.92   5.50  27.0  \n",
       "5     14.7  389.61   1.92  50.0  \n",
       "6     14.7  388.45   3.32  50.0  \n",
       "7     18.6  381.32  14.66  24.4  \n",
       "8     18.6  396.90  23.09  20.0  \n",
       "9     18.6  393.25  17.27  21.7  "
      ]
     },
     "execution_count": 10,
     "metadata": {},
     "output_type": "execute_result"
    }
   ],
   "source": [
    "dburi = 'sqlite:///csci303.sqlite3'\n",
    "\n",
    "pd.read_sql_query('SELECT * FROM boston WHERE chas', dburi)[:10]"
   ]
  },
  {
   "cell_type": "markdown",
   "metadata": {
    "slideshow": {
     "slide_type": "subslide"
    }
   },
   "source": [
    "Or, if we simply want the whole table, use `pandas.read_sql_table`:"
   ]
  },
  {
   "cell_type": "code",
   "execution_count": 11,
   "metadata": {},
   "outputs": [],
   "source": [
    "#pd.read_sql_table('employees', dburi)"
   ]
  },
  {
   "cell_type": "markdown",
   "metadata": {
    "slideshow": {
     "slide_type": "slide"
    }
   },
   "source": [
    "## Some Useful Code\n",
    "---\n",
    "How can you find out what tables are even in a database?\n",
    "\n",
    "Every query tool has a mechanism to do this, but right now I know of no super-easy way to do it from Jupyter.\n",
    "\n",
    "The SQLAlchemy database engine (which is what pandas is using under the covers) can do this for us, with a little code.\n",
    "\n",
    "You might want to keep this snippet handy.\n",
    "\n",
    "From http://stackoverflow.com/questions/21310549/list-database-tables-with-sqlalchemy"
   ]
  },
  {
   "cell_type": "code",
   "execution_count": 12,
   "metadata": {
    "slideshow": {
     "slide_type": "subslide"
    }
   },
   "outputs": [
    {
     "data": {
      "text/plain": [
       "['main']"
      ]
     },
     "execution_count": 12,
     "metadata": {},
     "output_type": "execute_result"
    }
   ],
   "source": [
    "from sqlalchemy import create_engine, inspect\n",
    "engine = create_engine(\"sqlite:///csci303.sqlite3\")\n",
    "\n",
    "inspector = inspect(engine)\n",
    "\n",
    "#returns list of databases\n",
    "inspector.get_schema_names()"
   ]
  },
  {
   "cell_type": "code",
   "execution_count": 13,
   "metadata": {},
   "outputs": [
    {
     "data": {
      "text/plain": [
       "['boston',\n",
       " 'customers',\n",
       " 'departments',\n",
       " 'employees',\n",
       " 'employees2',\n",
       " 'occupation_assignments',\n",
       " 'occupation_attainments',\n",
       " 'occupation_codes',\n",
       " 'scifi_author',\n",
       " 'scifi_work',\n",
       " 'univ_act',\n",
       " 'univ_carnegie',\n",
       " 'univ_cbsa',\n",
       " 'univ_cbsatype',\n",
       " 'univ_ccbasic',\n",
       " 'univ_ccenrprf',\n",
       " 'univ_ccipgrad',\n",
       " 'univ_ccipug',\n",
       " 'univ_ccsizset',\n",
       " 'univ_ccugprof',\n",
       " 'univ_cngdstcd',\n",
       " 'univ_control',\n",
       " 'univ_countycd',\n",
       " 'univ_csa',\n",
       " 'univ_cyactive',\n",
       " 'univ_deggrant',\n",
       " 'univ_dfrcgid',\n",
       " 'univ_dfrcuscg',\n",
       " 'univ_f1syscod',\n",
       " 'univ_f1systyp',\n",
       " 'univ_field_descriptions',\n",
       " 'univ_fips',\n",
       " 'univ_groffer',\n",
       " 'univ_hbcu',\n",
       " 'univ_hdegofr1',\n",
       " 'univ_hloffer',\n",
       " 'univ_hospital',\n",
       " 'univ_iclevel',\n",
       " 'univ_instcat',\n",
       " 'univ_instsize',\n",
       " 'univ_landgrnt',\n",
       " 'univ_locale',\n",
       " 'univ_medical',\n",
       " 'univ_necta',\n",
       " 'univ_obereg',\n",
       " 'univ_opeflag',\n",
       " 'univ_openpubl',\n",
       " 'univ_postsec',\n",
       " 'univ_pseflag',\n",
       " 'univ_pset4flg',\n",
       " 'univ_rptmth',\n",
       " 'univ_sector',\n",
       " 'univ_stabbr',\n",
       " 'univ_tribal',\n",
       " 'univ_ugoffer',\n",
       " 'universities']"
      ]
     },
     "execution_count": 13,
     "metadata": {},
     "output_type": "execute_result"
    }
   ],
   "source": [
    "#returns list of tables in a database\n",
    "inspector.get_table_names('main')"
   ]
  },
  {
   "cell_type": "code",
   "execution_count": 14,
   "metadata": {
    "slideshow": {
     "slide_type": "subslide"
    }
   },
   "outputs": [
    {
     "data": {
      "text/plain": [
       "[('name', TEXT()), ('age', INTEGER()), ('salary', INTEGER())]"
      ]
     },
     "execution_count": 14,
     "metadata": {},
     "output_type": "execute_result"
    }
   ],
   "source": [
    "#now get the items in a specific table\n",
    "[(c['name'],c['type']) for c in inspector.get_columns('employees','main')]"
   ]
  },
  {
   "cell_type": "markdown",
   "metadata": {
    "slideshow": {
     "slide_type": "subslide"
    }
   },
   "source": [
    "You could even dump all the column info into pandas to get a nice layout..."
   ]
  },
  {
   "cell_type": "code",
   "execution_count": 15,
   "metadata": {},
   "outputs": [
    {
     "data": {
      "text/html": [
       "<div>\n",
       "<style scoped>\n",
       "    .dataframe tbody tr th:only-of-type {\n",
       "        vertical-align: middle;\n",
       "    }\n",
       "\n",
       "    .dataframe tbody tr th {\n",
       "        vertical-align: top;\n",
       "    }\n",
       "\n",
       "    .dataframe thead th {\n",
       "        text-align: right;\n",
       "    }\n",
       "</style>\n",
       "<table border=\"1\" class=\"dataframe\">\n",
       "  <thead>\n",
       "    <tr style=\"text-align: right;\">\n",
       "      <th></th>\n",
       "      <th>name</th>\n",
       "      <th>type</th>\n",
       "      <th>nullable</th>\n",
       "      <th>default</th>\n",
       "      <th>autoincrement</th>\n",
       "      <th>primary_key</th>\n",
       "    </tr>\n",
       "  </thead>\n",
       "  <tbody>\n",
       "    <tr>\n",
       "      <th>0</th>\n",
       "      <td>name</td>\n",
       "      <td>TEXT</td>\n",
       "      <td>True</td>\n",
       "      <td>None</td>\n",
       "      <td>auto</td>\n",
       "      <td>0</td>\n",
       "    </tr>\n",
       "    <tr>\n",
       "      <th>1</th>\n",
       "      <td>age</td>\n",
       "      <td>INTEGER</td>\n",
       "      <td>True</td>\n",
       "      <td>None</td>\n",
       "      <td>auto</td>\n",
       "      <td>0</td>\n",
       "    </tr>\n",
       "    <tr>\n",
       "      <th>2</th>\n",
       "      <td>salary</td>\n",
       "      <td>INTEGER</td>\n",
       "      <td>True</td>\n",
       "      <td>None</td>\n",
       "      <td>auto</td>\n",
       "      <td>0</td>\n",
       "    </tr>\n",
       "  </tbody>\n",
       "</table>\n",
       "</div>"
      ],
      "text/plain": [
       "     name     type  nullable default autoincrement  primary_key\n",
       "0    name     TEXT      True    None          auto            0\n",
       "1     age  INTEGER      True    None          auto            0\n",
       "2  salary  INTEGER      True    None          auto            0"
      ]
     },
     "execution_count": 15,
     "metadata": {},
     "output_type": "execute_result"
    }
   ],
   "source": [
    "pd.DataFrame(inspector.get_columns('employees','main'))"
   ]
  },
  {
   "cell_type": "markdown",
   "metadata": {
    "slideshow": {
     "slide_type": "slide"
    }
   },
   "source": [
    "## Things To Try\n",
    "---\n",
    "- Do some SELECT queries on the 'boston' table\n",
    "- Explore the 'universities' table\n",
    "  - Get more info about the columns in 'universities'\n",
    "  - The related 'univ_xxx' tables give text descriptions for the values in many of the columns\n",
    "  - See what you can learn about Colorado School of Mines"
   ]
  },
  {
   "cell_type": "code",
   "execution_count": 16,
   "metadata": {},
   "outputs": [
    {
     "data": {
      "text/html": [
       "<div>\n",
       "<style scoped>\n",
       "    .dataframe tbody tr th:only-of-type {\n",
       "        vertical-align: middle;\n",
       "    }\n",
       "\n",
       "    .dataframe tbody tr th {\n",
       "        vertical-align: top;\n",
       "    }\n",
       "\n",
       "    .dataframe thead th {\n",
       "        text-align: right;\n",
       "    }\n",
       "</style>\n",
       "<table border=\"1\" class=\"dataframe\">\n",
       "  <thead>\n",
       "    <tr style=\"text-align: right;\">\n",
       "      <th></th>\n",
       "      <th>crim</th>\n",
       "      <th>zn</th>\n",
       "      <th>indus</th>\n",
       "      <th>chas</th>\n",
       "      <th>nox</th>\n",
       "      <th>rm</th>\n",
       "      <th>age</th>\n",
       "      <th>dis</th>\n",
       "      <th>rad</th>\n",
       "      <th>tax</th>\n",
       "      <th>ptratio</th>\n",
       "      <th>b</th>\n",
       "      <th>lstat</th>\n",
       "      <th>medv</th>\n",
       "    </tr>\n",
       "  </thead>\n",
       "  <tbody>\n",
       "    <tr>\n",
       "      <th>0</th>\n",
       "      <td>8.98296</td>\n",
       "      <td>0.0</td>\n",
       "      <td>18.1</td>\n",
       "      <td>1</td>\n",
       "      <td>0.770</td>\n",
       "      <td>6.212</td>\n",
       "      <td>97.4</td>\n",
       "      <td>2.1222</td>\n",
       "      <td>24.0</td>\n",
       "      <td>666.0</td>\n",
       "      <td>20.2</td>\n",
       "      <td>377.73</td>\n",
       "      <td>17.60</td>\n",
       "      <td>17.8</td>\n",
       "    </tr>\n",
       "    <tr>\n",
       "      <th>1</th>\n",
       "      <td>3.84970</td>\n",
       "      <td>0.0</td>\n",
       "      <td>18.1</td>\n",
       "      <td>1</td>\n",
       "      <td>0.770</td>\n",
       "      <td>6.395</td>\n",
       "      <td>91.0</td>\n",
       "      <td>2.5052</td>\n",
       "      <td>24.0</td>\n",
       "      <td>666.0</td>\n",
       "      <td>20.2</td>\n",
       "      <td>391.34</td>\n",
       "      <td>13.27</td>\n",
       "      <td>21.7</td>\n",
       "    </tr>\n",
       "    <tr>\n",
       "      <th>2</th>\n",
       "      <td>5.20177</td>\n",
       "      <td>0.0</td>\n",
       "      <td>18.1</td>\n",
       "      <td>1</td>\n",
       "      <td>0.770</td>\n",
       "      <td>6.127</td>\n",
       "      <td>83.4</td>\n",
       "      <td>2.7227</td>\n",
       "      <td>24.0</td>\n",
       "      <td>666.0</td>\n",
       "      <td>20.2</td>\n",
       "      <td>395.43</td>\n",
       "      <td>11.48</td>\n",
       "      <td>22.7</td>\n",
       "    </tr>\n",
       "    <tr>\n",
       "      <th>3</th>\n",
       "      <td>4.22239</td>\n",
       "      <td>0.0</td>\n",
       "      <td>18.1</td>\n",
       "      <td>1</td>\n",
       "      <td>0.770</td>\n",
       "      <td>5.803</td>\n",
       "      <td>89.0</td>\n",
       "      <td>1.9047</td>\n",
       "      <td>24.0</td>\n",
       "      <td>666.0</td>\n",
       "      <td>20.2</td>\n",
       "      <td>353.04</td>\n",
       "      <td>14.64</td>\n",
       "      <td>16.8</td>\n",
       "    </tr>\n",
       "    <tr>\n",
       "      <th>4</th>\n",
       "      <td>3.47428</td>\n",
       "      <td>0.0</td>\n",
       "      <td>18.1</td>\n",
       "      <td>1</td>\n",
       "      <td>0.718</td>\n",
       "      <td>8.780</td>\n",
       "      <td>82.9</td>\n",
       "      <td>1.9047</td>\n",
       "      <td>24.0</td>\n",
       "      <td>666.0</td>\n",
       "      <td>20.2</td>\n",
       "      <td>354.55</td>\n",
       "      <td>5.29</td>\n",
       "      <td>21.9</td>\n",
       "    </tr>\n",
       "    <tr>\n",
       "      <th>5</th>\n",
       "      <td>5.66998</td>\n",
       "      <td>0.0</td>\n",
       "      <td>18.1</td>\n",
       "      <td>1</td>\n",
       "      <td>0.631</td>\n",
       "      <td>6.683</td>\n",
       "      <td>96.8</td>\n",
       "      <td>1.3567</td>\n",
       "      <td>24.0</td>\n",
       "      <td>666.0</td>\n",
       "      <td>20.2</td>\n",
       "      <td>375.33</td>\n",
       "      <td>3.73</td>\n",
       "      <td>50.0</td>\n",
       "    </tr>\n",
       "    <tr>\n",
       "      <th>6</th>\n",
       "      <td>6.53876</td>\n",
       "      <td>0.0</td>\n",
       "      <td>18.1</td>\n",
       "      <td>1</td>\n",
       "      <td>0.631</td>\n",
       "      <td>7.016</td>\n",
       "      <td>97.5</td>\n",
       "      <td>1.2024</td>\n",
       "      <td>24.0</td>\n",
       "      <td>666.0</td>\n",
       "      <td>20.2</td>\n",
       "      <td>392.05</td>\n",
       "      <td>2.96</td>\n",
       "      <td>50.0</td>\n",
       "    </tr>\n",
       "    <tr>\n",
       "      <th>7</th>\n",
       "      <td>8.26725</td>\n",
       "      <td>0.0</td>\n",
       "      <td>18.1</td>\n",
       "      <td>1</td>\n",
       "      <td>0.668</td>\n",
       "      <td>5.875</td>\n",
       "      <td>89.6</td>\n",
       "      <td>1.1296</td>\n",
       "      <td>24.0</td>\n",
       "      <td>666.0</td>\n",
       "      <td>20.2</td>\n",
       "      <td>347.88</td>\n",
       "      <td>8.88</td>\n",
       "      <td>50.0</td>\n",
       "    </tr>\n",
       "    <tr>\n",
       "      <th>8</th>\n",
       "      <td>4.26131</td>\n",
       "      <td>0.0</td>\n",
       "      <td>18.1</td>\n",
       "      <td>0</td>\n",
       "      <td>0.770</td>\n",
       "      <td>6.112</td>\n",
       "      <td>81.3</td>\n",
       "      <td>2.5091</td>\n",
       "      <td>24.0</td>\n",
       "      <td>666.0</td>\n",
       "      <td>20.2</td>\n",
       "      <td>390.74</td>\n",
       "      <td>12.67</td>\n",
       "      <td>22.6</td>\n",
       "    </tr>\n",
       "    <tr>\n",
       "      <th>9</th>\n",
       "      <td>4.54192</td>\n",
       "      <td>0.0</td>\n",
       "      <td>18.1</td>\n",
       "      <td>0</td>\n",
       "      <td>0.770</td>\n",
       "      <td>6.398</td>\n",
       "      <td>88.0</td>\n",
       "      <td>2.5182</td>\n",
       "      <td>24.0</td>\n",
       "      <td>666.0</td>\n",
       "      <td>20.2</td>\n",
       "      <td>374.56</td>\n",
       "      <td>7.79</td>\n",
       "      <td>25.0</td>\n",
       "    </tr>\n",
       "  </tbody>\n",
       "</table>\n",
       "</div>"
      ],
      "text/plain": [
       "      crim   zn  indus  chas    nox     rm   age     dis   rad    tax  \\\n",
       "0  8.98296  0.0   18.1     1  0.770  6.212  97.4  2.1222  24.0  666.0   \n",
       "1  3.84970  0.0   18.1     1  0.770  6.395  91.0  2.5052  24.0  666.0   \n",
       "2  5.20177  0.0   18.1     1  0.770  6.127  83.4  2.7227  24.0  666.0   \n",
       "3  4.22239  0.0   18.1     1  0.770  5.803  89.0  1.9047  24.0  666.0   \n",
       "4  3.47428  0.0   18.1     1  0.718  8.780  82.9  1.9047  24.0  666.0   \n",
       "5  5.66998  0.0   18.1     1  0.631  6.683  96.8  1.3567  24.0  666.0   \n",
       "6  6.53876  0.0   18.1     1  0.631  7.016  97.5  1.2024  24.0  666.0   \n",
       "7  8.26725  0.0   18.1     1  0.668  5.875  89.6  1.1296  24.0  666.0   \n",
       "8  4.26131  0.0   18.1     0  0.770  6.112  81.3  2.5091  24.0  666.0   \n",
       "9  4.54192  0.0   18.1     0  0.770  6.398  88.0  2.5182  24.0  666.0   \n",
       "\n",
       "   ptratio       b  lstat  medv  \n",
       "0     20.2  377.73  17.60  17.8  \n",
       "1     20.2  391.34  13.27  21.7  \n",
       "2     20.2  395.43  11.48  22.7  \n",
       "3     20.2  353.04  14.64  16.8  \n",
       "4     20.2  354.55   5.29  21.9  \n",
       "5     20.2  375.33   3.73  50.0  \n",
       "6     20.2  392.05   2.96  50.0  \n",
       "7     20.2  347.88   8.88  50.0  \n",
       "8     20.2  390.74  12.67  22.6  \n",
       "9     20.2  374.56   7.79  25.0  "
      ]
     },
     "execution_count": 16,
     "metadata": {},
     "output_type": "execute_result"
    }
   ],
   "source": [
    "pd.read_sql_query('SELECT * FROM boston WHERE indus = 18.10', dburi)[:10]\n"
   ]
  },
  {
   "cell_type": "markdown",
   "metadata": {
    "slideshow": {
     "slide_type": "slide"
    }
   },
   "source": [
    "## Next Lecture\n",
    "---\n",
    "- More SELECT queries\n",
    "  - More WHERE clause expressions\n",
    "  - Functions\n",
    "  - Sorting\n",
    "  - Grouping and aggregating\n",
    "  - Joining tables"
   ]
  }
 ],
 "metadata": {
  "anaconda-cloud": {},
  "celltoolbar": "Slideshow",
  "kernelspec": {
   "display_name": "Python 3 (ipykernel)",
   "language": "python",
   "name": "python3"
  },
  "language_info": {
   "codemirror_mode": {
    "name": "ipython",
    "version": 3
   },
   "file_extension": ".py",
   "mimetype": "text/x-python",
   "name": "python",
   "nbconvert_exporter": "python",
   "pygments_lexer": "ipython3",
   "version": "3.9.12"
  },
  "livereveal": {
   "height": 768,
   "start_slideshow_at": "selected",
   "theme": "mines",
   "transition": "slide",
   "width": 1024
  }
 },
 "nbformat": 4,
 "nbformat_minor": 2
}
