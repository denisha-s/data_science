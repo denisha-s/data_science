{
 "cells": [
  {
   "cell_type": "markdown",
   "metadata": {},
   "source": [
    "# Final quiz, 3 of 3\n",
    "\n",
    "## Decision Trees, Random Forests, and Neural Networks\n",
    "\n",
    "### Instructions:\n",
    "\n",
    "Step through this jupyter notebook and write code to complete the instructed tasks.  \n",
    "Questions in the notebook are mirrored in the quiz on Canvas. Submit answers to the  \n",
    "questions on Canvas. When you are done, restart your notebook and run all the cells.  \n",
    "Save your notebook **without clearing the output**. Download your saved notebook  \n",
    "(if you are working on jupyterhub rather than locally) and submit the file on Canvas."
   ]
  },
  {
   "cell_type": "code",
   "execution_count": 1,
   "metadata": {},
   "outputs": [],
   "source": [
    "# We'll import that tools you'll need.\n",
    "# You may import additional tools if you wish to.\n",
    "import numpy as np\n",
    "from sklearn.tree import DecisionTreeClassifier\n",
    "from sklearn.ensemble import RandomForestClassifier\n",
    "from sklearn.model_selection import train_test_split\n",
    "from sklearn import datasets\n",
    "from sklearn.metrics import accuracy_score\n",
    "\n",
    "import matplotlib.pyplot as plt\n",
    "%matplotlib inline"
   ]
  },
  {
   "cell_type": "markdown",
   "metadata": {},
   "source": [
    "## Digit recognition\n",
    "\n",
    "In our neural network exercise, we trained a NN for classifying images of handwritten digits. We'll do the same here, using trees and forests. Our image sizes will be smaller than those we used for the NN exercise, to allow for faster processing. Images are 8x8 pixels, which are flattened into 64 features."
   ]
  },
  {
   "cell_type": "markdown",
   "metadata": {},
   "source": [
    "### Part 1 of 3\n",
    "\n",
    "### Train a decision tree classifier\n",
    "\n",
    "The cell below will load the data set. Add code to the cell and run it, to help you answer the following questions.\n",
    "\n",
    "**Q6: How many samples are in the data set?**\n",
    "\n",
    "---\n",
    "Split your data into 80% training and 20% testing sets. **In your call to ```train_test_split()```, set the random_state parameter to 50, so you will get the same result as everyone else: ```random_state=50```.**\n",
    "\n",
    "Construct and train a decision tree model on the data. Let the tree grow to have maximum depth (```max_depth=None```). **Again, set the random_state parameter to 50 (```random_state=50```).** (Although the training is largely deterministic, sklearn randomly selects a feature if two or more features would give equal Gini Impurity reduction at a split).\n",
    "\n",
    "Train the tree on your training set and test it on the test set.\n",
    "\n",
    "**Q7: What is the decision tree accuracy score for the test set?**"
   ]
  },
  {
   "cell_type": "code",
   "execution_count": 4,
   "metadata": {},
   "outputs": [
    {
     "name": "stdout",
     "output_type": "stream",
     "text": [
      "(1797, 64)\n"
     ]
    }
   ],
   "source": [
    "##################\n",
    "## Part 1 of 2\n",
    "##################\n",
    "## Load the (flattened) digit images and labels\n",
    "# X is a numpy array of pixels, with a shape of (num_samples, num_features)\n",
    "# y is a numpy array of labels (digit numbers), with a shape of (num_samples)\n",
    "(X, y) = datasets.load_digits(n_class=10, return_X_y=True)\n",
    "\n",
    "# Show your work below. Submit your answers on Canvas.\n",
    "# You may create additional cells to segment your work.\n",
    "#######################################################\n",
    "\n",
    "print(X.shape)"
   ]
  },
  {
   "cell_type": "code",
   "execution_count": 5,
   "metadata": {},
   "outputs": [
    {
     "name": "stdout",
     "output_type": "stream",
     "text": [
      "0.8444444444444444\n"
     ]
    }
   ],
   "source": [
    "X_train, X_test, y_train, y_test = train_test_split(X, y, test_size=0.2, random_state=50)\n",
    "\n",
    "tree = DecisionTreeClassifier(max_depth=None, random_state=50)\n",
    "tree.fit(X_train, y_train)\n",
    "\n",
    "y_pred = tree.predict(X_test)\n",
    "\n",
    "accuracy = accuracy_score(y_test, y_pred)\n",
    "print(accuracy)"
   ]
  },
  {
   "cell_type": "markdown",
   "metadata": {},
   "source": [
    "### Part 2 of 3\n",
    "\n",
    "### Train several random forest models\n",
    "\n",
    "Add code to the cell below and run it, to help you answer the following questions.\n",
    "\n",
    "---\n",
    "**Model 1**:\n",
    "Using the same training and test sets you created above, construct, train, and test a random forest classifier with the following parameters:\n",
    "```\n",
    "n_estimators=5\n",
    "bootstrap=True\n",
    "max_features='sqrt'\n",
    "random_state=0\n",
    "```\n",
    "This creates a model that is a traditional RF model, including sample bagging (```bootstrap=True```) and feature _subset_ randomization (```max_features='sqrt'```).\n",
    "\n",
    "**Q8: What is the RF Model 1 accuracy score for the test set?**\n",
    "\n",
    "\n",
    "---\n",
    "**Model 2**:\n",
    "Using the same training and test sets you created above, construct, train, and test a random forest classifier with the following parameters:\n",
    "```\n",
    "n_estimators=50\n",
    "bootstrap=False\n",
    "max_features=10\n",
    "random_state=0\n",
    "```\n",
    "This creates a model that **does not** randomly select subsets of samples and features. All the trees in the forest are nearly identical (the only difference being the random selection amongst feature that give equal reductions in Gini Impurity).\n",
    "\n",
    "**Q9: What is the RF Model 2 accuracy score for the test set?**\n",
    "\n",
    "\n",
    "---\n",
    "**Model 3**:\n",
    "Using the same training and test sets you created above, construct, train, and test a random forest classifier with the following parameters:\n",
    "```\n",
    "n_estimators=500\n",
    "bootstrap=True\n",
    "max_features=None\n",
    "random_state=0\n",
    "```\n",
    "This is the same as Model 1 (a traditional RF model), except you'll use many trees rather. More trees often results in a better model; not always though, hmm.\n",
    "\n",
    "**Q10: What is the RF Model 3 accuracy score for the test set?**"
   ]
  },
  {
   "cell_type": "code",
   "execution_count": 6,
   "metadata": {},
   "outputs": [
    {
     "name": "stdout",
     "output_type": "stream",
     "text": [
      "0.9166666666666666\n"
     ]
    }
   ],
   "source": [
    "##################\n",
    "## Part 2 of 3\n",
    "##################\n",
    "#\n",
    "# Show your work below. Submit your answers on Canvas.\n",
    "# You may create additional cells to segment your work.\n",
    "\n",
    "rf1 = RandomForestClassifier(n_estimators=5, bootstrap=True, max_features='sqrt', random_state=0)\n",
    "rf1.fit(X_train, y_train)\n",
    "\n",
    "y_pred = rf1.predict(X_test)\n",
    "\n",
    "accuracy = accuracy_score(y_test, y_pred)\n",
    "print(accuracy)"
   ]
  },
  {
   "cell_type": "code",
   "execution_count": 7,
   "metadata": {},
   "outputs": [
    {
     "name": "stdout",
     "output_type": "stream",
     "text": [
      "0.9722222222222222\n"
     ]
    }
   ],
   "source": [
    "rf2 = RandomForestClassifier(n_estimators=50, bootstrap=False, max_features=10, random_state=0)\n",
    "rf2.fit(X_train, y_train)\n",
    "\n",
    "y_pred = rf2.predict(X_test)\n",
    "\n",
    "accuracy = accuracy_score(y_test, y_pred)\n",
    "print(accuracy)"
   ]
  },
  {
   "cell_type": "code",
   "execution_count": 8,
   "metadata": {},
   "outputs": [
    {
     "name": "stdout",
     "output_type": "stream",
     "text": [
      "0.9333333333333333\n"
     ]
    }
   ],
   "source": [
    "rf3 = RandomForestClassifier(n_estimators=500, bootstrap=True, max_features=None, random_state=0)\n",
    "rf3.fit(X_train, y_train)\n",
    "\n",
    "y_pred = rf3.predict(X_test)\n",
    "\n",
    "accuracy = accuracy_score(y_test, y_pred)\n",
    "print(accuracy)"
   ]
  },
  {
   "cell_type": "markdown",
   "metadata": {},
   "source": [
    "### Plot the feature importance\n",
    "\n",
    "Add code to the cell below and run it, to help you answer the following question.\n",
    "\n",
    "---\n",
    "Working with the trained Model 3, get the feature importance values from the model, and reshape them into an 8x8 array (matrix), so they are ordered like one of the 8x8 digit images (see code below to clarify). Then plot the importance matrix as an image.\n",
    "\n",
    "**Q11: Which best describes the pattern exhibited by the matrix of feature importances?  \n",
    "a. Pixels near the edges of the images are most important.  \n",
    "b. Pixels near the edges of the images are least important.  \n",
    "c. All pixels are nearly equally important. There is little variation.**"
   ]
  },
  {
   "cell_type": "code",
   "execution_count": 6,
   "metadata": {},
   "outputs": [
    {
     "data": {
      "text/plain": [
       "<matplotlib.colorbar.Colorbar at 0x7fb2ca1231f0>"
      ]
     },
     "execution_count": 6,
     "metadata": {},
     "output_type": "execute_result"
    },
    {
     "data": {
      "image/png": "[encoded data removed]",
      "text/plain": [
       "<Figure size 640x480 with 2 Axes>"
      ]
     },
     "metadata": {},
     "output_type": "display_data"
    }
   ],
   "source": [
    "##################\n",
    "## Part 3 of 3\n",
    "##################\n",
    "#\n",
    "# Reshape the pixels of a sample into an 8x8 matrix, and plot.\n",
    "digit_sample = X[0,:] # get single image sample\n",
    "digit_matrix = np.reshape(digit_sample, (8, 8)) # reshape from 64 pixel vector to 8x8 pixel matrix\n",
    "plt.figure()\n",
    "plt.imshow(digit_matrix)\n",
    "plt.colorbar()\n",
    "#\n",
    "# Show your work below. Submit your answers on Canvas.\n",
    "# You may create additional cells to segment your work.\n",
    "\n",
    "## Add to (edit) the code below to create the importance matrix as instructed above."
   ]
  },
  {
   "cell_type": "code",
   "execution_count": 16,
   "metadata": {},
   "outputs": [
    {
     "data": {
      "image/png": "[encoded data removed]",
      "text/plain": [
       "<Figure size 432x288 with 2 Axes>"
      ]
     },
     "metadata": {
      "needs_background": "light"
     },
     "output_type": "display_data"
    }
   ],
   "source": [
    "importances = rf3.feature_importances_\n",
    "\n",
    "importances_matrix = np.reshape(importances, (8, 8))\n",
    "\n",
    "plt.figure()\n",
    "plt.imshow(importances_matrix, cmap='hot')\n",
    "plt.colorbar()\n",
    "plt.show()"
   ]
  },
  {
   "cell_type": "code",
   "execution_count": null,
   "metadata": {},
   "outputs": [],
   "source": []
  }
 ],
 "metadata": {
  "kernelspec": {
   "display_name": "Python 3 (ipykernel)",
   "language": "python",
   "name": "python3"
  },
  "language_info": {
   "codemirror_mode": {
    "name": "ipython",
    "version": 3
   },
   "file_extension": ".py",
   "mimetype": "text/x-python",
   "name": "python",
   "nbconvert_exporter": "python",
   "pygments_lexer": "ipython3",
   "version": "3.9.12"
  }
 },
 "nbformat": 4,
 "nbformat_minor": 2
}
