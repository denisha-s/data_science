{
 "cells": [
  {
   "cell_type": "markdown",
   "metadata": {
    "slideshow": {
     "slide_type": "slide"
    }
   },
   "source": [
    "# CSCI 303\n",
    "# Introduction to Data Science\n",
    "<p/>\n",
    "### 2 - Python Basics\n"
   ]
  },
  {
   "cell_type": "markdown",
   "metadata": {
    "slideshow": {
     "slide_type": "slide"
    }
   },
   "source": [
    "## Preview\n",
    "---"
   ]
  },
  {
   "cell_type": "code",
   "execution_count": 3,
   "metadata": {
    "scrolled": false,
    "slideshow": {
     "slide_type": "fragment"
    }
   },
   "outputs": [
    {
     "name": "stdout",
     "output_type": "stream",
     "text": [
      "10\n"
     ]
    }
   ],
   "source": [
    "n = 1024\n",
    "logn = 0\n",
    "while n > 1:\n",
    "    logn = logn + 1\n",
    "    n = n / 2\n",
    "print(logn)"
   ]
  },
  {
   "cell_type": "markdown",
   "metadata": {
    "slideshow": {
     "slide_type": "slide"
    }
   },
   "source": [
    "## About Python\n",
    "---\n",
    "- Created c. 1991 (by Guido van Rossum)\n",
    "- General purpose, interpreted programming language\n",
    "- Multiparadigm (OO, functional, procedural)\n",
    "- Cross-platform and open source\n",
    "- Widely used in data science:\n",
    "  - Easy to learn and use\n",
    "  - Huge library, including interfaces to just about everything"
   ]
  },
  {
   "cell_type": "markdown",
   "metadata": {
    "slideshow": {
     "slide_type": "slide"
    }
   },
   "source": [
    "## Python 2 vs 3\n",
    "---\n",
    "- Python 2\n",
    "  - Still very popular\n",
    "  - End of life in 2020\n",
    "  - Older data science texts preferred 2.7 due to package availability\n",
    "- Python 3\n",
    "  - Recommended for anyone starting today\n",
    "  - Has caught up with 2.7 in package availability\n",
    "  - **Used in this class** - use `python3` on jupyterhub"
   ]
  },
  {
   "cell_type": "markdown",
   "metadata": {
    "slideshow": {
     "slide_type": "slide"
    }
   },
   "source": [
    "## Usage\n",
    "---\n",
    "- batch - programs or \"scripts\"\n",
    "- interactive - *REPL*\\* shells\n",
    "  - `python3` interactive mode\n",
    "  - IDLE\n",
    "  - many others\n",
    "- Jupyter (IPython) notebook\n",
    "\n",
    "\\**REPL = Read - Eval - Print Loop*"
   ]
  },
  {
   "cell_type": "markdown",
   "metadata": {
    "slideshow": {
     "slide_type": "slide"
    }
   },
   "source": [
    "## Getting Started\n",
    "---\n",
    "Highly recommended:\n",
    "\n",
    "https://docs.python.org/3/tutorial/index.html"
   ]
  },
  {
   "cell_type": "markdown",
   "metadata": {
    "slideshow": {
     "slide_type": "slide"
    }
   },
   "source": [
    "## Everything is an Object\n",
    "---\n",
    "You can get help on pretty much any object with `help(obj)`:"
   ]
  },
  {
   "cell_type": "code",
   "execution_count": null,
   "metadata": {
    "slideshow": {
     "slide_type": "subslide"
    }
   },
   "outputs": [],
   "source": [
    "help('math')"
   ]
  },
  {
   "cell_type": "markdown",
   "metadata": {
    "slideshow": {
     "slide_type": "slide"
    }
   },
   "source": [
    "## Jupyter Notebook Help\n",
    "---\n",
    "In the Jupyter notebook, there are some additional helpers.\n",
    "\n",
    "- Type ? after any module, class name, or function to get help on it\n",
    "- Tab completion after '.' operator for methods, properties\n",
    "- Can even see source code with ??"
   ]
  },
  {
   "cell_type": "code",
   "execution_count": 4,
   "metadata": {
    "slideshow": {
     "slide_type": "subslide"
    }
   },
   "outputs": [],
   "source": [
    "import math\n",
    "math?"
   ]
  },
  {
   "cell_type": "code",
   "execution_count": 5,
   "metadata": {
    "slideshow": {
     "slide_type": "-"
    }
   },
   "outputs": [
    {
     "ename": "SyntaxError",
     "evalue": "invalid syntax (<ipython-input-5-6994845579ab>, line 1)",
     "output_type": "error",
     "traceback": [
      "\u001b[1;36m  File \u001b[1;32m\"<ipython-input-5-6994845579ab>\"\u001b[1;36m, line \u001b[1;32m1\u001b[0m\n\u001b[1;33m    math.\u001b[0m\n\u001b[1;37m         ^\u001b[0m\n\u001b[1;31mSyntaxError\u001b[0m\u001b[1;31m:\u001b[0m invalid syntax\n"
     ]
    }
   ],
   "source": [
    "math."
   ]
  },
  {
   "cell_type": "code",
   "execution_count": 6,
   "metadata": {
    "slideshow": {
     "slide_type": "-"
    }
   },
   "outputs": [],
   "source": [
    "def foo():\n",
    "    '''\n",
    "    This function prints a greeting.\n",
    "    '''\n",
    "    print('Hello, world!')"
   ]
  },
  {
   "cell_type": "code",
   "execution_count": 7,
   "metadata": {
    "slideshow": {
     "slide_type": "-"
    }
   },
   "outputs": [],
   "source": [
    "foo??"
   ]
  },
  {
   "cell_type": "markdown",
   "metadata": {
    "slideshow": {
     "slide_type": "slide"
    }
   },
   "source": [
    "## Scalar Base Types\n",
    "---\n",
    "- integers: `4`, `-20`\n",
    "- floating point numbers: `1.234`, `1e-15`\n",
    "- boolean: `True`, `False`\n",
    "- `None`"
   ]
  },
  {
   "cell_type": "markdown",
   "metadata": {
    "slideshow": {
     "slide_type": "slide"
    }
   },
   "source": [
    "## Operators\n",
    "---\n",
    "| operator | meaning |\n",
    "|----------|---------|\n",
    "| +, -, \\* | addition, subtraction, multiplication |\n",
    "| /        | real division |\n",
    "| //       | integer (floor) division |\n",
    "| %        | modulus |\n",
    "| \\*\\*     | exponentiation |\n"
   ]
  },
  {
   "cell_type": "code",
   "execution_count": null,
   "metadata": {
    "collapsed": true,
    "slideshow": {
     "slide_type": "-"
    }
   },
   "outputs": [],
   "source": [
    "print((1 + 4) / 2)\n",
    "print((1 + 4) // 2)"
   ]
  },
  {
   "cell_type": "markdown",
   "metadata": {
    "slideshow": {
     "slide_type": "slide"
    }
   },
   "source": [
    "## Variables\n",
    "---\n",
    "- Dynamic (\"duck\") typing\n",
    "- Type not associated with variable, but with object\n",
    "  - variables can be assigned different objects sequentially"
   ]
  },
  {
   "cell_type": "code",
   "execution_count": null,
   "metadata": {
    "collapsed": true,
    "slideshow": {
     "slide_type": "-"
    }
   },
   "outputs": [],
   "source": [
    "a = 'Hello'\n",
    "print('a =', a)\n",
    "x = 7\n",
    "y = 3.14\n",
    "a = y * x\n",
    "print('a =', a)"
   ]
  },
  {
   "cell_type": "markdown",
   "metadata": {
    "slideshow": {
     "slide_type": "slide"
    }
   },
   "source": [
    "## Control Flow\n",
    "---\n",
    "Consider the following code to generate Hailstone sequences:"
   ]
  },
  {
   "cell_type": "code",
   "execution_count": null,
   "metadata": {
    "collapsed": true
   },
   "outputs": [],
   "source": [
    "n = 1292340923509522304582\n",
    "while n != 1:\n",
    "    print(n, end = ' ')\n",
    "    if n % 2 == 0:\n",
    "        n = n // 2\n",
    "    else:\n",
    "        n = n * 3 + 1\n",
    "print(n)"
   ]
  },
  {
   "cell_type": "markdown",
   "metadata": {
    "slideshow": {
     "slide_type": "slide"
    }
   },
   "source": [
    "## While\n",
    "---\n",
    "While loop syntax:\n",
    "\n",
    "```\n",
    "while <condition>:\n",
    "    <statements>\n",
    "```\n",
    "\n",
    "Notes:\n",
    "\n",
    "- Condition is a Boolean expression\n",
    "- Colon (:) ends the line (mostly for readability)\n",
    "- Inside of loop is set off by mandatory *indentation*\n",
    "- End of loop indicated by end of indentation"
   ]
  },
  {
   "cell_type": "markdown",
   "metadata": {
    "slideshow": {
     "slide_type": "slide"
    }
   },
   "source": [
    "## If-Else\n",
    "---\n",
    "If statement syntax:\n",
    "\n",
    "```\n",
    "if <condition 1>:\n",
    "    <statements 1>\n",
    "elif <condition 2>:  # optional, can repeat\n",
    "    <statements 2>\n",
    "else:                # optional\n",
    "    <statements 3>\n",
    "```\n",
    "\n",
    "Note the indentation, the use of colons, and the Boolean conditional expressions."
   ]
  },
  {
   "cell_type": "markdown",
   "metadata": {
    "slideshow": {
     "slide_type": "slide"
    }
   },
   "source": [
    "## For\n",
    "---\n",
    "Python has powerful `for` loops, but they work in conjunction with *iterable* objects, like sequences.\n",
    "\n",
    "We'll study them after looking more into lists."
   ]
  },
  {
   "cell_type": "markdown",
   "metadata": {
    "slideshow": {
     "slide_type": "slide"
    }
   },
   "source": [
    "## L02: Practice\n",
    "---\n",
    "\n",
    "1. Create a new Python 3 Notebook\n",
    "2. Add a comment at the top of the cell with your name and the date\n",
    "3. Solve this problem: Given an integer number `n`, print the number of times the digit `5` occurs in the number (without converting to a string). For example, n = 5555055555, should outpt 9 (hint: use modulo and floor division to work with one digit at a time).\n",
    "4. Download the Notebook (.ipynb) file and submit to Canvas."
   ]
  }
 ],
 "metadata": {
  "anaconda-cloud": {},
  "celltoolbar": "Slideshow",
  "kernelspec": {
   "display_name": "Python 3 (ipykernel)",
   "language": "python",
   "name": "python3"
  },
  "language_info": {
   "codemirror_mode": {
    "name": "ipython",
    "version": 3
   },
   "file_extension": ".py",
   "mimetype": "text/x-python",
   "name": "python",
   "nbconvert_exporter": "python",
   "pygments_lexer": "ipython3",
   "version": "3.9.12"
  },
  "livereveal": {
   "height": 768,
   "start_slideshow_at": "selected",
   "theme": "mines",
   "transition": "slide",
   "width": 1024
  }
 },
 "nbformat": 4,
 "nbformat_minor": 2
}
