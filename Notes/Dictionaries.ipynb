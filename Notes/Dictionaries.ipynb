{
 "cells": [
  {
   "cell_type": "code",
   "execution_count": null,
   "id": "d082c5c3",
   "metadata": {},
   "outputs": [],
   "source": [
    "# Denisha Saviela\n",
    "# 1/19/2023"
   ]
  },
  {
   "cell_type": "code",
   "execution_count": 33,
   "id": "cb77dbad",
   "metadata": {},
   "outputs": [
    {
     "name": "stdout",
     "output_type": "stream",
     "text": [
      "{3: ['one', 'six', 'two'], 5: ['three']}\n"
     ]
    }
   ],
   "source": [
    "wordlist = ['one', 'two', 'three', 'six']\n",
    "\n",
    "d = {}\n",
    "\n",
    "for word in wordlist:\n",
    "    myLen = len(word)\n",
    "    \n",
    "    if myLen in d:\n",
    "        d[myLen].append(word)\n",
    "        d[myLen].sort()\n",
    "        \n",
    "    else:\n",
    "        d[myLen] = [word]\n",
    "            \n",
    "print(d)"
   ]
  },
  {
   "cell_type": "code",
   "execution_count": null,
   "id": "d8f2f0fe",
   "metadata": {},
   "outputs": [],
   "source": []
  }
 ],
 "metadata": {
  "kernelspec": {
   "display_name": "Python 3 (ipykernel)",
   "language": "python",
   "name": "python3"
  },
  "language_info": {
   "codemirror_mode": {
    "name": "ipython",
    "version": 3
   },
   "file_extension": ".py",
   "mimetype": "text/x-python",
   "name": "python",
   "nbconvert_exporter": "python",
   "pygments_lexer": "ipython3",
   "version": "3.9.12"
  }
 },
 "nbformat": 4,
 "nbformat_minor": 5
}
