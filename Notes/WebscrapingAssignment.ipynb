{
 "cells": [
  {
   "cell_type": "markdown",
   "metadata": {},
   "source": [
    "## Project: Web Scraping\n",
    "- Name:\n",
    "- Date: "
   ]
  },
  {
   "cell_type": "markdown",
   "metadata": {},
   "source": [
    "## Instructions\n",
    "\n",
    "### Description\n",
    "\n",
    "Both Beautiful Soup and Selenium can do the same things when it comes to webscraping. In this assignment you will use both Beautiful Soup and Selenium to scrape the below website so that you can see how they are similar in functionality as well as how Selenium has a few more advanced options. The below website has many options of movies and TV Shows to pick from. \n",
    "\n",
    "https://subslikescript.com/\n",
    "\n",
    "\n",
    "### Grading\n",
    "\n",
    "For grading purposes, we will clear all outputs from all your cells and then run them all from the top.  Please test your notebook in the same fashion before turning it in.\n",
    "\n",
    "### Submitting Your Solution\n",
    "\n",
    "To submit your notebook, first clear all the cells. Then use the File->Download As->Notebook to obtain the notebook file. You will submit a .zip file with this notebook, the txt from the Beautiful Soup portion, and two more txt's from the Selenium portion.  Finally, submit the .zip file on Canvas."
   ]
  },
  {
   "cell_type": "markdown",
   "metadata": {},
   "source": [
    "### Part 1: Beautiful Soup"
   ]
  },
  {
   "cell_type": "markdown",
   "metadata": {},
   "source": [
    "### Setup"
   ]
  },
  {
   "cell_type": "code",
   "execution_count": null,
   "metadata": {},
   "outputs": [],
   "source": [
    "from bs4 import BeautifulSoup\n",
    "import requests # sends requests to a website\n",
    "import pandas as pd\n",
    "import matplotlib.pyplot as plt\n",
    "%matplotlib inline\n",
    "%config InlineBackend.figure_format = 'retina'"
   ]
  },
  {
   "cell_type": "markdown",
   "metadata": {},
   "source": [
    "### Problem 1: Setup Beautiful Soup (5 points)\n",
    "Complete the following tasks:\n",
    "\n",
    "1. Select a movie or TV show on the website that you want to scrape.\n",
    "2. Send a request to the website and then call Beautiful Soup on that request.\n",
    "3. print the result of implementing Beautiful Soup to check your work."
   ]
  },
  {
   "cell_type": "code",
   "execution_count": null,
   "metadata": {},
   "outputs": [],
   "source": [
    "# website = \n",
    "# result = \n",
    "# context = \n",
    "# soup = "
   ]
  },
  {
   "cell_type": "markdown",
   "metadata": {},
   "source": [
    "### Problem 2: Website Exploration (10 points)\n",
    "\n",
    "a. Provide code below to produce answers to the following questions (edit this cell with your answers): \n",
    "\n",
    "    1. What is the title of the movie or TV show that you chose?\n",
    "\n",
    "    2. How do you know that this is the title of the article? (think the tag)\n",
    "\n",
    "\n",
    "b. Use Beautiful Soup to print the text of the title.\n",
    "\n",
    "\n",
    "c. Use Beautiful Soup to print the basic HTML code of the chosen movie or TV show. \n",
    "\n",
    "\n",
    "d. Use Beautiful Soup to print the text of the full script of the movie or TV show."
   ]
  },
  {
   "cell_type": "code",
   "execution_count": null,
   "metadata": {},
   "outputs": [],
   "source": [
    "# a\n"
   ]
  },
  {
   "cell_type": "code",
   "execution_count": null,
   "metadata": {},
   "outputs": [],
   "source": [
    "# b\n",
    "%matplotlib inline\n",
    "%config InlineBackend.figure_format = 'retina'\n",
    "\n"
   ]
  },
  {
   "cell_type": "code",
   "execution_count": null,
   "metadata": {},
   "outputs": [],
   "source": [
    "#c. \n"
   ]
  },
  {
   "cell_type": "code",
   "execution_count": null,
   "metadata": {},
   "outputs": [],
   "source": [
    "# d."
   ]
  },
  {
   "cell_type": "markdown",
   "metadata": {},
   "source": [
    "### Problem 3: Create the txt File\n",
    "\n",
    "Now send the entire script of the movie or TV show to a txt file. \n",
    "\n",
    "With the name of the txt file as **Beautiful Soup** with the title of the chosen article. \n",
    "\n",
    "For example: If I chose Titanic the name of the txt file would be:\n",
    "\n",
    "    1. 'Beautiful Soup Titanic (1997) - full transcript.txt'"
   ]
  },
  {
   "cell_type": "code",
   "execution_count": null,
   "metadata": {
    "scrolled": false
   },
   "outputs": [],
   "source": []
  },
  {
   "cell_type": "markdown",
   "metadata": {},
   "source": [
    "### Reflection\n",
    "\n",
    "Now assume at this point that you wanted to look at the script of a different movie. If you were just using Beautiful Soup would it be possible to by **only using code** chose a different movie? How would you have to choose a different movie if Beautiful Soup was your web scraping method of choice?\n",
    "\n",
    "**Discuss new results**(Edit this cell)\n",
    ">\n",
    ">"
   ]
  },
  {
   "cell_type": "markdown",
   "metadata": {},
   "source": [
    "### Part 2: Selenium"
   ]
  },
  {
   "cell_type": "markdown",
   "metadata": {},
   "source": [
    "### Setup"
   ]
  },
  {
   "cell_type": "code",
   "execution_count": null,
   "metadata": {},
   "outputs": [],
   "source": [
    "from selenium import webdriver\n",
    "from selenium.webdriver.common.by import By\n",
    "from selenium.webdriver.support.ui import Select\n",
    "import time\n",
    "import pandas as pd\n",
    "from pandas import DataFrame"
   ]
  },
  {
   "cell_type": "markdown",
   "metadata": {},
   "source": [
    "### Problem 4: Setup Selenium\n",
    "We are going to use the **same** movie or TV show as we used above. \n",
    "\n",
    "Complete the following tasks:\n",
    "\n",
    "1. Define the website\n",
    "2. Define the path to the driver.\n",
    "3. Create the driver\n",
    "4. Use the driver to get the website. "
   ]
  },
  {
   "cell_type": "code",
   "execution_count": null,
   "metadata": {},
   "outputs": [],
   "source": [
    "website = 'https://subslikescript.com/movie/More_Than_Blue-16306388'\n",
    "path = '/Users/Owner/Desktop/chromedriver_win32/chromedriver.exe' \n",
    "driver = webdriver.Chrome(path) \n",
    "driver.get(website)"
   ]
  },
  {
   "cell_type": "markdown",
   "metadata": {},
   "source": [
    "### Problem 5: Website Exploration With Selenium\n",
    "\n",
    "**Note that when you use the driver to find_elements it returns a list. You cannot use .text on a list so you have to access the element inside of that resulting list to use .text and print the title.**\n",
    "\n",
    "a. Provide code below to produce answers to the following questions (edit this cell with your answers): \n",
    "\n",
    "    1. What is the title of the movie or TV show that you chose?\n",
    "\n",
    "    2. What did you use to find_element by? i.e. XPath, ID, TAG_NAME?\n",
    "    \n",
    "    3. If you used XPath, what is the XPath of the title? \n",
    "       If you used ID, what is the ID of the title?\n",
    "       If you used the TAG_NAME, what is the TAG_NAME of the title?\n",
    "\n",
    "b. Use Selenium to print the text of the title. \n",
    "        \n",
    "c. Use Selenium to print the text of the main article of the chosen movie or TV show.\n",
    "\n",
    "    1. What did you use to find_element by? i.e. XPath, ID, TAG_NAME?\n",
    "    \n",
    "    2. If you used XPath, what is the XPath? \n",
    "       If you used ID, what is the ID?\n",
    "       If you used the TAG_NAME, what is the TAG_NAME?\n",
    "\n",
    "d. Use Selenium to print the text of the full script of the movie or TV show.\n",
    "\n",
    "    1. What did you use to find_element by? i.e. XPath, ID, TAG_NAME?\n",
    "    \n",
    "    2. If you used XPath, what is the XPath? \n",
    "       If you used ID, what is the ID?\n",
    "       If you used the TAG_NAME, what is the TAG_NAME?\n"
   ]
  },
  {
   "cell_type": "code",
   "execution_count": null,
   "metadata": {},
   "outputs": [],
   "source": [
    "# a."
   ]
  },
  {
   "cell_type": "code",
   "execution_count": null,
   "metadata": {},
   "outputs": [],
   "source": [
    "# b."
   ]
  },
  {
   "cell_type": "code",
   "execution_count": null,
   "metadata": {},
   "outputs": [],
   "source": [
    "# c."
   ]
  },
  {
   "cell_type": "code",
   "execution_count": null,
   "metadata": {},
   "outputs": [],
   "source": [
    "# d."
   ]
  },
  {
   "cell_type": "markdown",
   "metadata": {},
   "source": [
    "### Problem 6: Create the txt File\n",
    "\n",
    "Now send the entire script of the movie or TV show to a txt file. \n",
    "\n",
    "With the name of the txt file as **Selenium** with the title of the chosen article. \n",
    "\n",
    "For example: If I chose Titanic the name of the txt file would be:\n",
    "\n",
    "    1. 'Selenium Titanic (1997) - full transcript.txt'"
   ]
  },
  {
   "cell_type": "code",
   "execution_count": null,
   "metadata": {},
   "outputs": [],
   "source": []
  },
  {
   "cell_type": "markdown",
   "metadata": {},
   "source": [
    "### Reflection\n",
    "\n",
    "At this point you have done the exact same thing with Selenium that you have done with Beautiful Soup. Take a few minutes and reflect on the following questions: \n",
    "\n",
    "    1. At this stage in the assignment has Selenium or Beautiful Soup been easier to use? Why has this method been easier to use?\n",
    "    2. If you were to implement webscraping in the future would you prefer to use Beautiful Soup or Selenium?\n",
    "    3. What aspects of Beautiful Soup did you prefer over Selenium? What aspects of Selenium did you prefer over Beautiful Soup?\n",
    "\n",
    "\n",
    "**Put your answers here**(Edit this cell)\n",
    ">\n",
    ">\n",
    ">"
   ]
  },
  {
   "cell_type": "markdown",
   "metadata": {},
   "source": [
    "### Problem 7: Choosing a Different Movie/TV Show\n",
    "\n",
    "By now I am sure you are tired of the same movie!\n",
    "\n",
    "I'm curious on if any movies start with the letter 'X'.\n",
    "\n",
    "Can you help me out and look at movies that start with the letter X?\n",
    "\n",
    "**hint: you will have to push 3 different buttons for this**\n",
    "\n",
    "**ALSO THIS PAGE HAS POP UP ADS. THE WEBSITE FOLLOWS ALONG IN LIVE TIME AS YOU CLICK ON THESE LINKS SO IF A POP UP AD APPEARS JUST CLICK 'CLOSE' ON THE POP UP AD AND KEEP SELENIUM'ING AWAY**"
   ]
  },
  {
   "cell_type": "code",
   "execution_count": null,
   "metadata": {},
   "outputs": [],
   "source": [
    "# click on the movie link to go back\n"
   ]
  },
  {
   "cell_type": "code",
   "execution_count": null,
   "metadata": {},
   "outputs": [],
   "source": [
    "# click on the 'X' link to look at movies that start with the letter X\n"
   ]
  },
  {
   "cell_type": "code",
   "execution_count": null,
   "metadata": {},
   "outputs": [],
   "source": [
    "# now click on your movie\n"
   ]
  },
  {
   "cell_type": "markdown",
   "metadata": {},
   "source": [
    "### Problem 8: Create the txt File and Supporting Information\n",
    "\n",
    "Now that the new movie/TV show is loaded up we are almost done!\n",
    "\n",
    "Do these next 3 things:\n",
    "\n",
    "    1. Get the title of the movie/TV show.\n",
    "    \n",
    "    2. Get the full-script of the movie/TV show.\n",
    "    \n",
    "    3. Create a txt file of the full-script with the naming scheme for the txt as 'Selenium2' and then the title then .txt. So say I choose Titanic the name of my txt to submit would be: 'Selenium2 Titanic (1997) - full transcript.txt'.\n",
    "    \n",
    "    4. Lastly, remember to tell the driver to quit as we are done scraping!"
   ]
  },
  {
   "cell_type": "code",
   "execution_count": null,
   "metadata": {},
   "outputs": [],
   "source": [
    "# get the title and then put it into text form\n"
   ]
  },
  {
   "cell_type": "code",
   "execution_count": null,
   "metadata": {},
   "outputs": [],
   "source": [
    "# get the full-script and then put it into text form\n"
   ]
  },
  {
   "cell_type": "code",
   "execution_count": null,
   "metadata": {},
   "outputs": [],
   "source": [
    "# create the txt file\n"
   ]
  },
  {
   "cell_type": "code",
   "execution_count": null,
   "metadata": {},
   "outputs": [],
   "source": [
    "# we are done scraping so quit the driver.\n"
   ]
  },
  {
   "cell_type": "markdown",
   "metadata": {},
   "source": [
    "## Part 3: Data Visualization With Web Scraping\n",
    "\n",
    "Now what we want to do is utilize our web scraping skills to implement data manipulation techniques that we have learned earlier in this course. \n",
    "\n",
    "Your task for this last part is to load in that **soccer_data.csv** file that we created at the end of the **Selenium WebScraper** lesson and run any data manipulation techniques on that data that you would like. You can put it into a DataFrame, run a classification model on it, show visulazations, etc. Anything that we have learned in this course up to this point is free game. "
   ]
  },
  {
   "cell_type": "markdown",
   "metadata": {},
   "source": [
    "## Problem 9: Data Manipulation on Preprocessed Data"
   ]
  },
  {
   "cell_type": "code",
   "execution_count": null,
   "metadata": {},
   "outputs": [],
   "source": [
    "# read in the csv (make sure the csv is in the same directory as this project)\n"
   ]
  },
  {
   "cell_type": "code",
   "execution_count": null,
   "metadata": {},
   "outputs": [],
   "source": [
    "# do your desired data manipulation technique!\n"
   ]
  },
  {
   "cell_type": "markdown",
   "metadata": {},
   "source": [
    "### Reflection\n",
    "\n",
    "At this point you have now done some sort of data manipulation with data that you scrapped online! This is important because most data that you will work with will not be given to you. You have to go out and collect the data in order to work with it which is exactly what we did here. Answer the following reflection questions regarding Part 3:\n",
    "\n",
    "    1. What data manipulation technique did you do on the data?\n",
    "    2. What did the results of your data manipulation tell you about the data? Any hidden meanings or things of value that you found in the data?\n",
    "   \n",
    "**Put your answers here**(Edit this cell)\n",
    ">\n",
    ">\n"
   ]
  },
  {
   "cell_type": "markdown",
   "metadata": {},
   "source": [
    "## You Finished! Treat yourself by taking this questionnaire\n",
    "### Questionnaire\n",
    "1) How long did you spend on this assignment?\n",
    "<br><br>\n",
    "2) What did you like about it? What did you not like about it?\n",
    "<br><br>\n",
    "3) Did you find any errors or is there anything you would like changed?\n",
    "<br><br>"
   ]
  }
 ],
 "metadata": {
  "kernelspec": {
   "display_name": "Python 3",
   "language": "python",
   "name": "python3"
  },
  "language_info": {
   "codemirror_mode": {
    "name": "ipython",
    "version": 3
   },
   "file_extension": ".py",
   "mimetype": "text/x-python",
   "name": "python",
   "nbconvert_exporter": "python",
   "pygments_lexer": "ipython3",
   "version": "3.8.5"
  }
 },
 "nbformat": 4,
 "nbformat_minor": 2
}
