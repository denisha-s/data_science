{
 "cells": [
  {
   "cell_type": "code",
   "execution_count": 1,
   "id": "56273376",
   "metadata": {},
   "outputs": [],
   "source": [
    "# Denisha Saviela 1/15/2023"
   ]
  },
  {
   "cell_type": "code",
   "execution_count": 5,
   "id": "4c6c2796",
   "metadata": {},
   "outputs": [
    {
     "name": "stdout",
     "output_type": "stream",
     "text": [
      "\n",
      "  input number (as Integer) :00031264789\n",
      "  integer to be found         :5\n",
      "\n",
      "\n",
      " Found  0 ...\n"
     ]
    }
   ],
   "source": [
    "numberinput   = int(input(\"\\n  input number (as Integer) :\"))\n",
    "\n",
    "numbersearch  = int(input(\"  integer to be found         :\"))\n",
    "\n",
    " \n",
    "#print (type(numberinput))\n",
    "\n",
    "count = 0\n",
    "\n",
    " \n",
    "\n",
    "# Loop to find the digits of numberinput\n",
    "\n",
    "while (numberinput > 0):\n",
    "\n",
    " \n",
    "\n",
    "   # check if the digit is numbersearch\n",
    "\n",
    "   if(numberinput % 10 == numbersearch):\n",
    "\n",
    "       count = count + 1\n",
    "\n",
    " \n",
    "\n",
    "   numberinput = numberinput // 10\n",
    "\n",
    " \n",
    "\n",
    "print (\"\\n\\n Found  {} ...\".format(count))"
   ]
  }
 ],
 "metadata": {
  "kernelspec": {
   "display_name": "Python 3 (ipykernel)",
   "language": "python",
   "name": "python3"
  },
  "language_info": {
   "codemirror_mode": {
    "name": "ipython",
    "version": 3
   },
   "file_extension": ".py",
   "mimetype": "text/x-python",
   "name": "python",
   "nbconvert_exporter": "python",
   "pygments_lexer": "ipython3",
   "version": "3.9.12"
  }
 },
 "nbformat": 4,
 "nbformat_minor": 5
}
