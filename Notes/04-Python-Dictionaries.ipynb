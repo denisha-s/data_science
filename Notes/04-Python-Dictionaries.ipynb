{
 "cells": [
  {
   "cell_type": "markdown",
   "metadata": {
    "slideshow": {
     "slide_type": "slide"
    }
   },
   "source": [
    "#### CSCI 303\n",
    "# Introduction to Data Science\n",
    "<p/>\n",
    "### 4 - Python Dictionaries"
   ]
  },
  {
   "cell_type": "markdown",
   "metadata": {
    "slideshow": {
     "slide_type": "slide"
    }
   },
   "source": [
    "## Preview\n",
    "---"
   ]
  },
  {
   "cell_type": "code",
   "execution_count": 38,
   "metadata": {
    "scrolled": false,
    "slideshow": {
     "slide_type": "-"
    }
   },
   "outputs": [
    {
     "name": "stdout",
     "output_type": "stream",
     "text": [
      "{'one': 1, 'two': 2, 'three': 3, 'four': 4}\n",
      "3\n",
      "one spells 1\n",
      "two spells 2\n",
      "three spells 3\n",
      "four spells 4\n"
     ]
    }
   ],
   "source": [
    "# initializing a dictionary\n",
    "d = {'one' : 1, 'two' : 2, 'three' : 3, 'four' : 4}\n",
    "\n",
    "# outputting the entire dictionary\n",
    "print(d)\n",
    "\n",
    "# if 'three' (the value) is in the dictionary\n",
    "if 'three' in d: \n",
    "    print(d['three']) # then print the key (think index) associated with that value\n",
    "\n",
    "# for loop to iterate through the dictionary.\n",
    "# .items() gives us a key/value pair of the dictionary!\n",
    "# k -> key\n",
    "# v -> value\n",
    "for k, v in d.items():\n",
    "    print(k, 'spells', v)"
   ]
  },
  {
   "cell_type": "markdown",
   "metadata": {
    "slideshow": {
     "slide_type": "slide"
    }
   },
   "source": [
    "## Dictionaries\n",
    "---\n",
    "- Mutable\n",
    "- Implement the Map abstract data type\n",
    "- Underlying implementation uses hashtables\n",
    "- aka \"associative arrays\":\n",
    "  - Indexed by *keys*, not integers\n",
    "  - Keys must be immutable (strings, numbers, tuples of immutable types)\n"
   ]
  },
  {
   "cell_type": "markdown",
   "metadata": {
    "slideshow": {
     "slide_type": "slide"
    }
   },
   "source": [
    "## Basic Usage\n",
    "---\n",
    "Literals:\n",
    "\n",
    "```mydict = \n",
    "    {<key1> : <value1>, \n",
    "     <key2> : <value2>, \n",
    "     ...}```\n",
    "\n",
    "Access/modify values via `[]`:\n",
    "\n",
    "`v = mydict[somekey]`\n",
    "\n",
    "`mydict[somekey] = newvalue`\n",
    "\n",
    "``` 1-9: int    immutable\n",
    "    ( ): tuple  immutable\n",
    "    [ ]: list   mutable\n",
    "    \" \": string immutable ```"
   ]
  },
  {
   "cell_type": "code",
   "execution_count": 39,
   "metadata": {
    "slideshow": {
     "slide_type": "subslide"
    }
   },
   "outputs": [
    {
     "name": "stdout",
     "output_type": "stream",
     "text": [
      "['a', 'b', 'c']\n",
      "hello\n"
     ]
    },
    {
     "data": {
      "text/plain": [
       "{'test': 1234, 7.45: 'hello', (1, 2, 3): (4, 5, 6)}"
      ]
     },
     "execution_count": 39,
     "metadata": {},
     "output_type": "execute_result"
    }
   ],
   "source": [
    "# note Python allows multiple lines for things enclosed in \n",
    "# delimiters like {}, [], ().\n",
    "oddstuff = { 'test'  : 1234,\n",
    "             7.45    : ['a', 'b', 'c'],\n",
    "             (1,2,3) : (4,5,6)}\n",
    "\n",
    "# print the value associated with the key 7.45.\n",
    "print(oddstuff[7.45])\n",
    "\n",
    "# the key 7.45 is now assocaited with 'hello'\n",
    "oddstuff[7.45] = 'hello'\n",
    "print(oddstuff[7.45])\n",
    "\n",
    "# print the entire dictionary as before. Notice that 7.45 is now associated with 'hello'!\n",
    "oddstuff"
   ]
  },
  {
   "cell_type": "markdown",
   "metadata": {
    "slideshow": {
     "slide_type": "subslide"
    }
   },
   "source": [
    "Keys/values don't have to be literals:"
   ]
  },
  {
   "cell_type": "code",
   "execution_count": 40,
   "metadata": {},
   "outputs": [
    {
     "data": {
      "text/plain": [
       "{1234: 'hello'}"
      ]
     },
     "execution_count": 40,
     "metadata": {},
     "output_type": "execute_result"
    }
   ],
   "source": [
    "x = 1234\n",
    "y = 'hello'\n",
    "d = {x : y}\n",
    "d"
   ]
  },
  {
   "cell_type": "markdown",
   "metadata": {
    "slideshow": {
     "slide_type": "slide"
    }
   },
   "source": [
    "## Creating Dictionaries\n",
    "---\n",
    "There are many ways to create a pre-populated dictionary:\n",
    "\n",
    "- `{ key1 : value1, key2 : value2, ...}`\n",
    "- `dict(key1 = value1, key2 = value2, ...)`\n",
    "- `dict([(key1, value1), ...])`"
   ]
  },
  {
   "cell_type": "markdown",
   "metadata": {
    "slideshow": {
     "slide_type": "slide"
    }
   },
   "source": [
    "## Adding to Dictionaries\n",
    "---\n",
    "To add a key/value pair, simply assign to the key as if it were already there:\n"
   ]
  },
  {
   "cell_type": "code",
   "execution_count": 41,
   "metadata": {},
   "outputs": [
    {
     "data": {
      "text/plain": [
       "{'I am': 'Groot'}"
      ]
     },
     "execution_count": 41,
     "metadata": {},
     "output_type": "execute_result"
    }
   ],
   "source": [
    "# create our empty dictionary\n",
    "mydict = {}\n",
    "\n",
    "# assign the key 'I am' to be associated with 'Groot'\n",
    "mydict['I am'] = 'Groot'\n",
    "\n",
    "# and output that dictionary\n",
    "mydict"
   ]
  },
  {
   "cell_type": "markdown",
   "metadata": {
    "slideshow": {
     "slide_type": "subslide"
    }
   },
   "source": [
    "You can obtain an empty dictionary using `{}` or `dict()`, and build up:"
   ]
  },
  {
   "cell_type": "code",
   "execution_count": 42,
   "metadata": {},
   "outputs": [
    {
     "data": {
      "text/plain": [
       "{0: 0, 1: 1, 2: 8, 3: 27, 4: 64}"
      ]
     },
     "execution_count": 42,
     "metadata": {},
     "output_type": "execute_result"
    }
   ],
   "source": [
    "# using dict() to initialize an empty dictionary\n",
    "cubes = dict()\n",
    "\n",
    "# loop through each x from [0,4] (the key) and the value will be the key cubed.\n",
    "for x in range(5):\n",
    "    cubes[x] = x ** 3\n",
    "cubes"
   ]
  },
  {
   "cell_type": "markdown",
   "metadata": {
    "slideshow": {
     "slide_type": "slide"
    }
   },
   "source": [
    "## Removing From Dictionaries\n",
    "---\n",
    "Use `del` to remove a key/value pair from a dictionary:"
   ]
  },
  {
   "cell_type": "code",
   "execution_count": 43,
   "metadata": {},
   "outputs": [
    {
     "data": {
      "text/plain": [
       "{'two': 2, 'three': 3}"
      ]
     },
     "execution_count": 43,
     "metadata": {},
     "output_type": "execute_result"
    }
   ],
   "source": [
    "# initialize our dictionary\n",
    "mydict = {'one' : 1, 'two' : 2, 'three' : 3, 'four' : 4}\n",
    "\n",
    "# and delete both 'one' and 'four' from that dictionary\n",
    "del mydict['one']\n",
    "del mydict['four']\n",
    "mydict"
   ]
  },
  {
   "cell_type": "markdown",
   "metadata": {
    "slideshow": {
     "slide_type": "slide"
    }
   },
   "source": [
    "## Querying Dictionaries\n",
    "---\n",
    "Use the usual `in` or `not in` operators to test for the presence of keys:\n"
   ]
  },
  {
   "cell_type": "code",
   "execution_count": 44,
   "metadata": {},
   "outputs": [
    {
     "name": "stdout",
     "output_type": "stream",
     "text": [
      "nope\n"
     ]
    }
   ],
   "source": [
    "# since we just deleted 'one' from our dictionary it is now not in it!\n",
    "if 'one' in mydict:\n",
    "    print(mydict['one'])\n",
    "else:\n",
    "    print('nope')"
   ]
  },
  {
   "cell_type": "markdown",
   "metadata": {
    "slideshow": {
     "slide_type": "slide"
    }
   },
   "source": [
    "## Loops on Dictionaries\n",
    "---\n",
    "The usual `for` loop iterates on *keys* of a dictionary:"
   ]
  },
  {
   "cell_type": "code",
   "execution_count": 45,
   "metadata": {},
   "outputs": [
    {
     "name": "stdout",
     "output_type": "stream",
     "text": [
      "one -> 1\n",
      "two -> 2\n",
      "three -> 3\n",
      "four -> 4\n"
     ]
    }
   ],
   "source": [
    "# intialize our dictionary\n",
    "mydict = {'one': 1, 'two': 2, 'three': 3, 'four': 4}\n",
    "\n",
    "# usual for loop to iterate on the keys of our dictionary\n",
    "for key in mydict:\n",
    "    print(key, \"->\", mydict[key])"
   ]
  },
  {
   "cell_type": "markdown",
   "metadata": {},
   "source": [
    "Note the lack of ordering of keys..."
   ]
  },
  {
   "cell_type": "markdown",
   "metadata": {
    "slideshow": {
     "slide_type": "subslide"
    }
   },
   "source": [
    "Generally, if you want both keys and their values, it is better to loop on the `items` collection of the dictionary:"
   ]
  },
  {
   "cell_type": "code",
   "execution_count": 46,
   "metadata": {},
   "outputs": [
    {
     "data": {
      "text/plain": [
       "dict_items([('one', 1), ('two', 2), ('three', 3), ('four', 4)])"
      ]
     },
     "execution_count": 46,
     "metadata": {},
     "output_type": "execute_result"
    }
   ],
   "source": [
    "mydict.items()"
   ]
  },
  {
   "cell_type": "code",
   "execution_count": 47,
   "metadata": {},
   "outputs": [
    {
     "name": "stdout",
     "output_type": "stream",
     "text": [
      "one -> 1\n",
      "two -> 2\n",
      "three -> 3\n",
      "four -> 4\n"
     ]
    }
   ],
   "source": [
    "for k, v in mydict.items():\n",
    "    print(k, \"->\", v)"
   ]
  },
  {
   "cell_type": "markdown",
   "metadata": {
    "slideshow": {
     "slide_type": "subslide"
    }
   },
   "source": [
    "To iterate over keys *in sorted order by keys*, sort the keys first and then iterate:"
   ]
  },
  {
   "cell_type": "code",
   "execution_count": 48,
   "metadata": {},
   "outputs": [
    {
     "name": "stdout",
     "output_type": "stream",
     "text": [
      "four -> 4\n",
      "one -> 1\n",
      "three -> 3\n",
      "two -> 2\n"
     ]
    }
   ],
   "source": [
    "# sorted in alphabetical order so by key so our dictionary will result in the below when iterated through\n",
    "for key in sorted(mydict.keys()):\n",
    "    print(key, \"->\", mydict[key])"
   ]
  },
  {
   "cell_type": "markdown",
   "metadata": {
    "slideshow": {
     "slide_type": "slide"
    }
   },
   "source": [
    "## Dictionary Comprehensions\n",
    "---\n",
    "As with lists and tuples, dictionaries can be created using *comprehensions*.\n",
    "\n",
    "`{ <key> : <value> for <item> in <iterable> }` \n",
    "\n",
    "Compare:\n"
   ]
  },
  {
   "cell_type": "code",
   "execution_count": 49,
   "metadata": {},
   "outputs": [
    {
     "data": {
      "text/plain": [
       "{0: 0, 1: 1, 2: 8, 3: 27, 4: 64}"
      ]
     },
     "execution_count": 49,
     "metadata": {},
     "output_type": "execute_result"
    }
   ],
   "source": [
    "# what we did before\n",
    "cubes = dict()\n",
    "for x in range(5):\n",
    "    cubes[x] = x ** 3\n",
    "cubes"
   ]
  },
  {
   "cell_type": "code",
   "execution_count": 50,
   "metadata": {},
   "outputs": [
    {
     "data": {
      "text/plain": [
       "{0: 0, 1: 1, 2: 8, 3: 27, 4: 64}"
      ]
     },
     "execution_count": 50,
     "metadata": {},
     "output_type": "execute_result"
    }
   ],
   "source": [
    "# more efficient way to iterate through a dictionary\n",
    "cubes = { x : x ** 3 for x in range(5) }\n",
    "cubes"
   ]
  },
  {
   "cell_type": "markdown",
   "metadata": {
    "slideshow": {
     "slide_type": "subslide"
    }
   },
   "source": [
    "For another example, we can easily invert (an invertible) mapping:"
   ]
  },
  {
   "cell_type": "code",
   "execution_count": 51,
   "metadata": {},
   "outputs": [
    {
     "data": {
      "text/plain": [
       "{0: 0, 1: 1, 8: 2, 27: 3, 64: 4}"
      ]
     },
     "execution_count": 51,
     "metadata": {},
     "output_type": "execute_result"
    }
   ],
   "source": [
    "# using .items() for a comprehension\n",
    "cuberoots = { v : k for k, v in cubes.items() }\n",
    "cuberoots"
   ]
  },
  {
   "cell_type": "markdown",
   "metadata": {
    "slideshow": {
     "slide_type": "slide"
    }
   },
   "source": [
    "## Zip\n",
    "---\n",
    "Sometimes we want to create dictionaries from pairs of sequences.\n",
    "\n",
    "For example, suppose we are reading in a file that contains a sequence of points on one line, followed by some computed values on those points on a second line:\n",
    "\n",
    "`0 1 2 3 4 5 \\n`\n",
    "\n",
    "`17 109 32 4 88 15 \\n`"
   ]
  },
  {
   "cell_type": "markdown",
   "metadata": {
    "slideshow": {
     "slide_type": "subslide"
    }
   },
   "source": [
    "If we read these in one line at a time and split on spaces (we'll see how to do this later), we get two collections:"
   ]
  },
  {
   "cell_type": "code",
   "execution_count": 52,
   "metadata": {},
   "outputs": [],
   "source": [
    "x = [0, 1, 2, 3, 4, 5]\n",
    "y = [17, 109, 32, 4, 88, 15]"
   ]
  },
  {
   "cell_type": "markdown",
   "metadata": {},
   "source": [
    "To turn these into a dictionary, we could use several approaches.\n",
    "\n",
    "Here's what you might think of first, coming from another language:"
   ]
  },
  {
   "cell_type": "code",
   "execution_count": 53,
   "metadata": {},
   "outputs": [
    {
     "data": {
      "text/plain": [
       "{0: 17, 1: 109, 2: 32, 3: 4, 4: 88, 5: 15}"
      ]
     },
     "execution_count": 53,
     "metadata": {},
     "output_type": "execute_result"
    }
   ],
   "source": [
    "# creates an empty dictionary\n",
    "fn = {}\n",
    "# iterates through that above x list\n",
    "for i in range(len(x)):\n",
    "    # and the respective key of our new dictionary becomes the respective value of the x list\n",
    "    # and the respective value of our new dictionary becomes the respective value the y list\n",
    "    fn[x[i]] = y[i]\n",
    "fn"
   ]
  },
  {
   "cell_type": "markdown",
   "metadata": {
    "slideshow": {
     "slide_type": "subslide"
    }
   },
   "source": [
    "We can improve things a bit with the `enumerate` function, which returns pairs of indices and values from a sequence:"
   ]
  },
  {
   "cell_type": "code",
   "execution_count": 54,
   "metadata": {},
   "outputs": [
    {
     "data": {
      "text/plain": [
       "{0: 17, 1: 109, 2: 32, 3: 4, 4: 88, 5: 15}"
      ]
     },
     "execution_count": 54,
     "metadata": {},
     "output_type": "execute_result"
    }
   ],
   "source": [
    "# create an empty dictionary\n",
    "fn = {}\n",
    "# create our dictionary by iterating through the x list using the enumerate function\n",
    "for i, xval in enumerate(x):\n",
    "    fn[xval] = y[i]\n",
    "fn"
   ]
  },
  {
   "cell_type": "markdown",
   "metadata": {},
   "source": [
    "or even better, using a comprehension:"
   ]
  },
  {
   "cell_type": "code",
   "execution_count": 55,
   "metadata": {},
   "outputs": [
    {
     "data": {
      "text/plain": [
       "{0: 17, 1: 109, 2: 32, 3: 4, 4: 88, 5: 15}"
      ]
     },
     "execution_count": 55,
     "metadata": {},
     "output_type": "execute_result"
    }
   ],
   "source": [
    "# xval is the key of the dictionary\n",
    "# each value in our y list is the value of the dictionary\n",
    "# and then iterate through the x list to create our dictionary\n",
    "fn = { xval : y[i] for i, xval in enumerate(x) }\n",
    "fn"
   ]
  },
  {
   "cell_type": "markdown",
   "metadata": {
    "slideshow": {
     "slide_type": "subslide"
    }
   },
   "source": [
    "Perhaps the most \"Pythonic\" approach uses `zip`.\n",
    "\n",
    "What `zip` does to pairs of iterable objects:"
   ]
  },
  {
   "cell_type": "code",
   "execution_count": 56,
   "metadata": {},
   "outputs": [
    {
     "name": "stdout",
     "output_type": "stream",
     "text": [
      "[0, 1, 2, 3, 4, 5]\n",
      "[17, 109, 32, 4, 88, 15]\n"
     ]
    },
    {
     "data": {
      "text/plain": [
       "[(0, 17), (1, 109), (2, 32), (3, 4), (4, 88), (5, 15)]"
      ]
     },
     "execution_count": 56,
     "metadata": {},
     "output_type": "execute_result"
    }
   ],
   "source": [
    "print(x)\n",
    "print(y)\n",
    "\n",
    "# how zip works is that the first values of the lists are paired together, then the second values are paired, third, ....\n",
    "list(zip(x, y))"
   ]
  },
  {
   "cell_type": "markdown",
   "metadata": {},
   "source": [
    "We can pass this directly to the `dict` constructor:"
   ]
  },
  {
   "cell_type": "code",
   "execution_count": 57,
   "metadata": {},
   "outputs": [
    {
     "data": {
      "text/plain": [
       "{0: 17, 1: 109, 2: 32, 3: 4, 4: 88, 5: 15}"
      ]
     },
     "execution_count": 57,
     "metadata": {},
     "output_type": "execute_result"
    }
   ],
   "source": [
    "# tada! Everything we did above can be done by calling dict on our zip creation\n",
    "fn = dict(zip(x,y))\n",
    "fn"
   ]
  },
  {
   "cell_type": "markdown",
   "metadata": {
    "slideshow": {
     "slide_type": "slide"
    }
   },
   "source": [
    "## L04: Practice\n",
    "---\n",
    "1. Create a new Python 3 Notebook\n",
    "2. Add a comment at the top of the cell with your name and the date\n",
    "3. Solve this problem: Given a list of words, create a dictionary mapping lengths of words to alphabetically sorted lists of words of that length.\n",
    "\n",
    "4. Download the Notebook (.ipynb) file and submit to Canvas.\n",
    "\n",
    "E.g., if the word list is `['one', 'two', 'three', 'six']`, then the new dictionary should be\n",
    "`{ 3: ['one', 'six', 'two'], 5: ['three'] }`"
   ]
  },
  {
   "cell_type": "code",
   "execution_count": 3,
   "metadata": {},
   "outputs": [
    {
     "name": "stdout",
     "output_type": "stream",
     "text": [
      "{5: ['apple', 'peach'], 4: ['pear', 'plum'], 6: ['cherry', 'orange', 'quince']}\n"
     ]
    }
   ],
   "source": [
    "#Name: Denisha Saviela\n",
    "#Date: 1/19/2023\n",
    "#In Class Python Practice: L04\n",
    "\n",
    "words = ['apple', 'plum', 'pear', 'peach', 'orange', 'cherry', 'quince']\n",
    "\n",
    "d = {}\n",
    "\n",
    "# YOUR CODE HERE\n",
    "# words.sort\n",
    "for word in words:\n",
    "    myLen = len(word)\n",
    "    \n",
    "    if myLen in d:\n",
    "        d[myLen].append(word)\n",
    "        d[myLen].sort()\n",
    "        \n",
    "    else:\n",
    "        d[myLen] = [word]\n",
    "            \n",
    "print(d)"
   ]
  },
  {
   "cell_type": "code",
   "execution_count": null,
   "metadata": {},
   "outputs": [],
   "source": []
  }
 ],
 "metadata": {
  "celltoolbar": "Slideshow",
  "kernelspec": {
   "display_name": "Python 3 (ipykernel)",
   "language": "python",
   "name": "python3"
  },
  "language_info": {
   "codemirror_mode": {
    "name": "ipython",
    "version": 3
   },
   "file_extension": ".py",
   "mimetype": "text/x-python",
   "name": "python",
   "nbconvert_exporter": "python",
   "pygments_lexer": "ipython3",
   "version": "3.9.12"
  },
  "livereveal": {
   "height": 768,
   "start_slideshow_at": "selected",
   "theme": "mines",
   "transition": "slide",
   "width": 1024
  }
 },
 "nbformat": 4,
 "nbformat_minor": 2
}
