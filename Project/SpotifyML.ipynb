{
 "cells": [
  {
   "cell_type": "code",
   "execution_count": 1,
   "id": "e7a290a9",
   "metadata": {},
   "outputs": [],
   "source": [
    "import numpy as np\n",
    "import pandas as pd\n",
    "from sklearn import datasets, linear_model\n",
    "from sklearn.model_selection import train_test_split, GridSearchCV\n",
    "from sklearn.ensemble import RandomForestRegressor\n",
    "from sklearn.tree import DecisionTreeRegressor\n",
    "import matplotlib.pyplot as plt # data visualization\n",
    "import ipywidgets as widgets # interactive widgets\n",
    "from ipywidgets import Box"
   ]
  },
  {
   "cell_type": "code",
   "execution_count": 2,
   "id": "66982fcf",
   "metadata": {
    "scrolled": false
   },
   "outputs": [],
   "source": [
    "df = pd.read_csv('SpotifyFeatures.csv')\n",
    "#df"
   ]
  },
  {
   "cell_type": "code",
   "execution_count": 3,
   "id": "3c227f54",
   "metadata": {
    "scrolled": false
   },
   "outputs": [
    {
     "data": {
      "text/html": [
       "<div>\n",
       "<style scoped>\n",
       "    .dataframe tbody tr th:only-of-type {\n",
       "        vertical-align: middle;\n",
       "    }\n",
       "\n",
       "    .dataframe tbody tr th {\n",
       "        vertical-align: top;\n",
       "    }\n",
       "\n",
       "    .dataframe thead th {\n",
       "        text-align: right;\n",
       "    }\n",
       "</style>\n",
       "<table border=\"1\" class=\"dataframe\">\n",
       "  <thead>\n",
       "    <tr style=\"text-align: right;\">\n",
       "      <th></th>\n",
       "      <th>popularity</th>\n",
       "      <th>acousticness</th>\n",
       "      <th>danceability</th>\n",
       "      <th>duration_ms</th>\n",
       "      <th>energy</th>\n",
       "      <th>instrumentalness</th>\n",
       "      <th>liveness</th>\n",
       "      <th>loudness</th>\n",
       "      <th>speechiness</th>\n",
       "      <th>tempo</th>\n",
       "      <th>valence</th>\n",
       "    </tr>\n",
       "  </thead>\n",
       "  <tbody>\n",
       "    <tr>\n",
       "      <th>count</th>\n",
       "      <td>232725.000000</td>\n",
       "      <td>232725.000000</td>\n",
       "      <td>232725.000000</td>\n",
       "      <td>2.327250e+05</td>\n",
       "      <td>232725.000000</td>\n",
       "      <td>232725.000000</td>\n",
       "      <td>232725.000000</td>\n",
       "      <td>232725.000000</td>\n",
       "      <td>232725.000000</td>\n",
       "      <td>232725.000000</td>\n",
       "      <td>232725.000000</td>\n",
       "    </tr>\n",
       "    <tr>\n",
       "      <th>mean</th>\n",
       "      <td>41.127502</td>\n",
       "      <td>0.368560</td>\n",
       "      <td>0.554364</td>\n",
       "      <td>2.351223e+05</td>\n",
       "      <td>0.570958</td>\n",
       "      <td>0.148301</td>\n",
       "      <td>0.215009</td>\n",
       "      <td>-9.569885</td>\n",
       "      <td>0.120765</td>\n",
       "      <td>117.666585</td>\n",
       "      <td>0.454917</td>\n",
       "    </tr>\n",
       "    <tr>\n",
       "      <th>std</th>\n",
       "      <td>18.189948</td>\n",
       "      <td>0.354768</td>\n",
       "      <td>0.185608</td>\n",
       "      <td>1.189359e+05</td>\n",
       "      <td>0.263456</td>\n",
       "      <td>0.302768</td>\n",
       "      <td>0.198273</td>\n",
       "      <td>5.998204</td>\n",
       "      <td>0.185518</td>\n",
       "      <td>30.898907</td>\n",
       "      <td>0.260065</td>\n",
       "    </tr>\n",
       "    <tr>\n",
       "      <th>min</th>\n",
       "      <td>0.000000</td>\n",
       "      <td>0.000000</td>\n",
       "      <td>0.056900</td>\n",
       "      <td>1.538700e+04</td>\n",
       "      <td>0.000020</td>\n",
       "      <td>0.000000</td>\n",
       "      <td>0.009670</td>\n",
       "      <td>-52.457000</td>\n",
       "      <td>0.022200</td>\n",
       "      <td>30.379000</td>\n",
       "      <td>0.000000</td>\n",
       "    </tr>\n",
       "    <tr>\n",
       "      <th>25%</th>\n",
       "      <td>29.000000</td>\n",
       "      <td>0.037600</td>\n",
       "      <td>0.435000</td>\n",
       "      <td>1.828570e+05</td>\n",
       "      <td>0.385000</td>\n",
       "      <td>0.000000</td>\n",
       "      <td>0.097400</td>\n",
       "      <td>-11.771000</td>\n",
       "      <td>0.036700</td>\n",
       "      <td>92.959000</td>\n",
       "      <td>0.237000</td>\n",
       "    </tr>\n",
       "    <tr>\n",
       "      <th>50%</th>\n",
       "      <td>43.000000</td>\n",
       "      <td>0.232000</td>\n",
       "      <td>0.571000</td>\n",
       "      <td>2.204270e+05</td>\n",
       "      <td>0.605000</td>\n",
       "      <td>0.000044</td>\n",
       "      <td>0.128000</td>\n",
       "      <td>-7.762000</td>\n",
       "      <td>0.050100</td>\n",
       "      <td>115.778000</td>\n",
       "      <td>0.444000</td>\n",
       "    </tr>\n",
       "    <tr>\n",
       "      <th>75%</th>\n",
       "      <td>55.000000</td>\n",
       "      <td>0.722000</td>\n",
       "      <td>0.692000</td>\n",
       "      <td>2.657680e+05</td>\n",
       "      <td>0.787000</td>\n",
       "      <td>0.035800</td>\n",
       "      <td>0.264000</td>\n",
       "      <td>-5.501000</td>\n",
       "      <td>0.105000</td>\n",
       "      <td>139.054000</td>\n",
       "      <td>0.660000</td>\n",
       "    </tr>\n",
       "    <tr>\n",
       "      <th>max</th>\n",
       "      <td>100.000000</td>\n",
       "      <td>0.996000</td>\n",
       "      <td>0.989000</td>\n",
       "      <td>5.552917e+06</td>\n",
       "      <td>0.999000</td>\n",
       "      <td>0.999000</td>\n",
       "      <td>1.000000</td>\n",
       "      <td>3.744000</td>\n",
       "      <td>0.967000</td>\n",
       "      <td>242.903000</td>\n",
       "      <td>1.000000</td>\n",
       "    </tr>\n",
       "  </tbody>\n",
       "</table>\n",
       "</div>"
      ],
      "text/plain": [
       "          popularity   acousticness   danceability   duration_ms  \\\n",
       "count  232725.000000  232725.000000  232725.000000  2.327250e+05   \n",
       "mean       41.127502       0.368560       0.554364  2.351223e+05   \n",
       "std        18.189948       0.354768       0.185608  1.189359e+05   \n",
       "min         0.000000       0.000000       0.056900  1.538700e+04   \n",
       "25%        29.000000       0.037600       0.435000  1.828570e+05   \n",
       "50%        43.000000       0.232000       0.571000  2.204270e+05   \n",
       "75%        55.000000       0.722000       0.692000  2.657680e+05   \n",
       "max       100.000000       0.996000       0.989000  5.552917e+06   \n",
       "\n",
       "              energy  instrumentalness       liveness       loudness  \\\n",
       "count  232725.000000     232725.000000  232725.000000  232725.000000   \n",
       "mean        0.570958          0.148301       0.215009      -9.569885   \n",
       "std         0.263456          0.302768       0.198273       5.998204   \n",
       "min         0.000020          0.000000       0.009670     -52.457000   \n",
       "25%         0.385000          0.000000       0.097400     -11.771000   \n",
       "50%         0.605000          0.000044       0.128000      -7.762000   \n",
       "75%         0.787000          0.035800       0.264000      -5.501000   \n",
       "max         0.999000          0.999000       1.000000       3.744000   \n",
       "\n",
       "         speechiness          tempo        valence  \n",
       "count  232725.000000  232725.000000  232725.000000  \n",
       "mean        0.120765     117.666585       0.454917  \n",
       "std         0.185518      30.898907       0.260065  \n",
       "min         0.022200      30.379000       0.000000  \n",
       "25%         0.036700      92.959000       0.237000  \n",
       "50%         0.050100     115.778000       0.444000  \n",
       "75%         0.105000     139.054000       0.660000  \n",
       "max         0.967000     242.903000       1.000000  "
      ]
     },
     "execution_count": 3,
     "metadata": {},
     "output_type": "execute_result"
    }
   ],
   "source": [
    "df.describe()"
   ]
  },
  {
   "cell_type": "code",
   "execution_count": 4,
   "id": "97609c55",
   "metadata": {},
   "outputs": [
    {
     "data": {
      "text/plain": [
       "genre                object\n",
       "artist_name          object\n",
       "track_name           object\n",
       "track_id             object\n",
       "popularity            int64\n",
       "acousticness        float64\n",
       "danceability        float64\n",
       "duration_ms           int64\n",
       "energy              float64\n",
       "instrumentalness    float64\n",
       "key                  object\n",
       "liveness            float64\n",
       "loudness            float64\n",
       "mode                 object\n",
       "speechiness         float64\n",
       "tempo               float64\n",
       "time_signature       object\n",
       "valence             float64\n",
       "dtype: object"
      ]
     },
     "execution_count": 4,
     "metadata": {},
     "output_type": "execute_result"
    }
   ],
   "source": [
    "df.dtypes"
   ]
  },
  {
   "cell_type": "code",
   "execution_count": 5,
   "id": "282636b2",
   "metadata": {},
   "outputs": [],
   "source": [
    "# RUN ONLY ONCE \n",
    "# Data Cleaning and Modification\n",
    "\n",
    "# Remove duplicates and unnecessary variables\n",
    "df.drop_duplicates(subset=['track_id'],keep='first',inplace=True) #will keep the first duplicate and drop rest\n",
    "df.drop(['genre','artist_name','track_name','track_id','key'],axis=1, inplace=True) #if True, the source DataFrame is changed and None is returned\n",
    "\n",
    "# Data cleaning and arrangement\n",
    "df['mode'] = np.where(df['mode']=='Major', 1, 0)\n",
    "\n",
    "# Change songs duration from milliseconds to seconds\n",
    "df['duration_ms'] = df['duration_ms'] / 1000\n",
    "df.rename(columns={'duration_ms': 'duration_s'}, inplace=True)"
   ]
  },
  {
   "cell_type": "code",
   "execution_count": 6,
   "id": "6a848f68",
   "metadata": {},
   "outputs": [
    {
     "name": "stdout",
     "output_type": "stream",
     "text": [
      "4/4 1\n",
      "5/4 2\n",
      "3/4 3\n",
      "1/4 4\n",
      "0/4 5\n"
     ]
    }
   ],
   "source": [
    "# Convert time_signature to an integer\n",
    "df['time_signature_ind'] = 1\n",
    "count = 0\n",
    "for i in df['time_signature'].unique():\n",
    "    count += 1\n",
    "    print(i,count)\n",
    "    df.loc[df['time_signature']==i,'time_signature_ind'] = count"
   ]
  },
  {
   "cell_type": "code",
   "execution_count": 7,
   "id": "8ed81d2a",
   "metadata": {},
   "outputs": [
    {
     "data": {
      "text/plain": [
       "popularity              int64\n",
       "acousticness          float64\n",
       "danceability          float64\n",
       "duration_s            float64\n",
       "energy                float64\n",
       "instrumentalness      float64\n",
       "liveness              float64\n",
       "loudness              float64\n",
       "mode                    int32\n",
       "speechiness           float64\n",
       "tempo                 float64\n",
       "time_signature         object\n",
       "valence               float64\n",
       "time_signature_ind      int64\n",
       "dtype: object"
      ]
     },
     "execution_count": 7,
     "metadata": {},
     "output_type": "execute_result"
    }
   ],
   "source": [
    "df.dtypes"
   ]
  },
  {
   "cell_type": "code",
   "execution_count": 8,
   "id": "853b5e4e",
   "metadata": {},
   "outputs": [],
   "source": [
    "# Drop old time_signature\n",
    "df.drop(['time_signature'],axis=1, inplace=True)"
   ]
  },
  {
   "cell_type": "code",
   "execution_count": 9,
   "id": "e78c2463",
   "metadata": {
    "scrolled": false
   },
   "outputs": [
    {
     "data": {
      "text/plain": [
       "DecisionTreeRegressor()"
      ]
     },
     "execution_count": 9,
     "metadata": {},
     "output_type": "execute_result"
    }
   ],
   "source": [
    "# Data Modeling\n",
    "\n",
    "X = df.loc[:,df.columns !=\"popularity\"] # all the features except popularity\n",
    "y = df[\"popularity\"] # popularity score\n",
    "\n",
    "# separate the data to training and testing\n",
    "X_train, X_test, y_train, y_test = train_test_split(X, y, test_size=0.2)\n",
    "# save as np.array\n",
    "X_train = np.array(X_train)\n",
    "X_test = np.array(X_test)\n",
    "y_train = np.array(y_train) \n",
    "y_test = np.array(y_test)\n",
    "# The y vector contains the songs’ “popularity” score\n",
    "\n",
    "# Create a linear regression, random forest & decision tree object\n",
    "model_regression = linear_model.LinearRegression()\n",
    "model_random_forest = RandomForestRegressor()\n",
    "model_decision_tree = DecisionTreeRegressor()\n",
    "\n",
    "# Train the model\n",
    "model_regression.fit(X_train,y_train)\n",
    "model_random_forest.fit(X_train,y_train)\n",
    "model_decision_tree.fit(X_train,y_train)"
   ]
  },
  {
   "cell_type": "code",
   "execution_count": 10,
   "id": "8bc27d87",
   "metadata": {},
   "outputs": [
    {
     "data": {
      "text/plain": [
       "-0.3329386872646254"
      ]
     },
     "execution_count": 10,
     "metadata": {},
     "output_type": "execute_result"
    }
   ],
   "source": [
    "# Estimate the R² score on training and testing data\n",
    "\n",
    "# (1) Linear regression\n",
    "model_regression.score(X_train,y_train)\n",
    "model_regression.score(X_test,y_test)\n",
    "\n",
    "# (2) Random Forest\n",
    "model_random_forest.score(X_train,y_train)\n",
    "model_random_forest.score(X_test,y_test)\n",
    "\n",
    "# (3) Decision Tree\n",
    "model_decision_tree.score(X_train,y_train)\n",
    "model_decision_tree.score(X_test,y_test)"
   ]
  },
  {
   "cell_type": "code",
   "execution_count": 11,
   "id": "48ee47bf",
   "metadata": {
    "scrolled": true
   },
   "outputs": [
    {
     "data": {
      "image/png": "[encoded data removed]",
      "text/plain": [
       "<Figure size 432x288 with 1 Axes>"
      ]
     },
     "metadata": {
      "needs_background": "light"
     },
     "output_type": "display_data"
    }
   ],
   "source": [
    "# Visualization\n",
    "test_samples = 10 # amount of songs which would be evaluated\n",
    "\n",
    "# initialized empty lists for the models predictions\n",
    "regression = [] \n",
    "random_forest = [] \n",
    "decision_tree = []\n",
    "ground_truth = []\n",
    "\n",
    "# collecting the models' predictions \n",
    "for i in range(test_samples): \n",
    "    regression.append(model_regression.predict([X_test[i]])) \n",
    "    random_forest.append(model_random_forest.predict([X_test[i]]))\n",
    "    decision_tree.append(model_decision_tree.predict([X_test[i]]))\n",
    "    ground_truth.append(y_test[i])\n",
    "    \n",
    "# Plotting the models' predictions in comparison to the ground truth\n",
    "plt.plot(range(len(regression)), regression, label='Linear Regression')\n",
    "plt.plot(range(len(random_forest)), random_forest, label='Random Forest')\n",
    "plt.plot(range(len(decision_tree)), decision_tree, label='Decision Tree')\n",
    "plt.plot(range(len(ground_truth)), ground_truth, label='Ground Truth')\n",
    "plt.xlim([0, test_samples])\n",
    "plt.ylim([0, 100])\n",
    "plt.xlabel('songs')\n",
    "plt.ylabel('popularity')\n",
    "plt.legend()\n",
    "plt.show()"
   ]
  },
  {
   "cell_type": "code",
   "execution_count": 12,
   "id": "bfde3698",
   "metadata": {},
   "outputs": [
    {
     "name": "stdout",
     "output_type": "stream",
     "text": [
      "Linear regression MSE:  242.3154227532458\n",
      "Linear regression RMSE: 15.566483956026994\n",
      "Random Forest MSE:  198.9390554485171\n",
      "Random Forest RMSE: 14.104575691899317\n",
      "Decision Tree MSE:  406.21529093794686\n",
      "Decision Tree RMSE: 20.154783326494652\n"
     ]
    }
   ],
   "source": [
    "# Linear Regression\n",
    "MSE_lr = ((y_test - model_regression.predict(X_test)) ** 2).mean()\n",
    "RMSE_lr = np.sqrt(MSE_lr)\n",
    "print(\"Linear regression MSE: \", MSE_lr)\n",
    "print(\"Linear regression RMSE:\", RMSE_lr)\n",
    "\n",
    "# Random Forest\n",
    "MSE_rm = ((y_test - model_random_forest.predict(X_test)) ** 2).mean()\n",
    "RMSE_rm = np.sqrt(MSE_rm)\n",
    "print(\"Random Forest MSE: \", MSE_rm)\n",
    "print(\"Random Forest RMSE:\", RMSE_rm)\n",
    "\n",
    "# Decision Tree\n",
    "MSE_dt = ((y_test - model_decision_tree.predict(X_test)) ** 2).mean()\n",
    "RMSE_dt = np.sqrt(MSE_dt)\n",
    "print(\"Decision Tree MSE: \", MSE_dt)\n",
    "print(\"Decision Tree RMSE:\", RMSE_dt)"
   ]
  },
  {
   "cell_type": "code",
   "execution_count": 13,
   "id": "285d5e24",
   "metadata": {
    "scrolled": true
   },
   "outputs": [
    {
     "data": {
      "image/png": "[encoded data removed]",
      "text/plain": [
       "<Figure size 432x288 with 1 Axes>"
      ]
     },
     "metadata": {
      "needs_background": "light"
     },
     "output_type": "display_data"
    }
   ],
   "source": [
    "# Compute the RMSE of the models\n",
    "MSEs = [MSE_lr, MSE_rm, MSE_dt]\n",
    "RMSEs = [RMSE_lr, RMSE_rm, RMSE_dt]\n",
    "\n",
    "# Set the colors for each bar\n",
    "colors = [\"lightskyblue\", \"darkseagreen\", \"burlywood\"]\n",
    "\n",
    "# Create a bar chart\n",
    "fig, ax = plt.subplots()\n",
    "bars = ax.bar([\"Linear Regression\", \"Random Forest\", \"Decision Tree\"], RMSEs, color=colors)\n",
    "\n",
    "# Add a legend\n",
    "ax.legend(bars, [\"Linear Regression\", \"Random Forest\", \"Decision Tree\"])\n",
    "\n",
    "# Set the axis labels and title\n",
    "ax.set_xlabel(\"ML Model\")\n",
    "ax.set_ylabel(\"RMSE\")\n",
    "ax.set_title(\"Root Mean Squared Error of Regression Models\")\n",
    "\n",
    "# Display the bar chart\n",
    "plt.show()\n"
   ]
  },
  {
   "cell_type": "code",
   "execution_count": 14,
   "id": "3611362c",
   "metadata": {},
   "outputs": [],
   "source": [
    "# Variables ranges\n",
    "acousticness = [0,1]\n",
    "danceability = [0,1]\n",
    "duration_s = [0,600]\n",
    "energy = [0,1]\n",
    "instrumentalness = [0,1]\n",
    "liveness = [0,1]\n",
    "loudness= [ -60,0]\n",
    "speechiness = [0,1]\n",
    "tempo = [0,250]\n",
    "valence = [0,1]\n",
    "mode = [0,1]\n",
    "\n",
    "features_range = {\"acousticness\":[0,1],\"danceability\" : [0,1],\"duration_s\":[0,600],\"energy\":[0,1],\n",
    "                  \"instrumentalness\":[0,1],\"liveness\":[0,1],\"loudness\": [-60,0], \"time_signature_ind\": [0,4],\n",
    "                  \"speechiness\" : [0,1],\"tempo\" : [0,250],\"valence\" : [0,1],\"mode\" : [0,1]}"
   ]
  },
  {
   "cell_type": "code",
   "execution_count": 15,
   "id": "290fd01c",
   "metadata": {},
   "outputs": [
    {
     "data": {
      "application/vnd.jupyter.widget-view+json": {
       "model_id": "f14deae54b6742fab54051f15d04eae1",
       "version_major": 2,
       "version_minor": 0
      },
      "text/plain": [
       "Box(children=(FloatSlider(value=0.611, continuous_update=False, description='acousticness', max=1.0, orientati…"
      ]
     },
     "metadata": {},
     "output_type": "display_data"
    }
   ],
   "source": [
    "regression = []\n",
    "random_forest = []\n",
    "decision_tree = []\n",
    "features = X.shape[1]\n",
    "widgets_box = []\n",
    "headers = X.columns\n",
    "temp_sample =X.iloc[0]\n",
    "for feature in range(features):\n",
    "   temp_widget = widgets.FloatSlider(value=temp_sample[feature],\n",
    "   min=features_range[headers[feature]][0],\n",
    "   max=features_range[headers[feature]][1],\n",
    "   step=0.1,\n",
    "   description=headers[feature],\n",
    "   disabled=False,\n",
    "   continuous_update=False,\n",
    "   orientation='vertical',\n",
    "   readout=True,\n",
    "   readout_format='.1f',\n",
    "   )\n",
    "   widgets_box.append(temp_widget)\n",
    "# display the features panel\n",
    "box = Box(children=widgets_box)\n",
    "display(box)"
   ]
  },
  {
   "cell_type": "code",
   "execution_count": 19,
   "id": "053e40d4",
   "metadata": {
    "scrolled": true
   },
   "outputs": [
    {
     "name": "stderr",
     "output_type": "stream",
     "text": [
      "C:\\Users\\denis\\AppData\\Local\\Temp\\ipykernel_1540\\164060588.py:3: SettingWithCopyWarning: \n",
      "A value is trying to be set on a copy of a slice from a DataFrame\n",
      "\n",
      "See the caveats in the documentation: https://pandas.pydata.org/pandas-docs/stable/user_guide/indexing.html#returning-a-view-versus-a-copy\n",
      "  temp_sample[feature] = widgets_box[feature].value\n",
      "C:\\Users\\denis\\AppData\\Local\\Temp\\ipykernel_1540\\164060588.py:3: SettingWithCopyWarning: \n",
      "A value is trying to be set on a copy of a slice from a DataFrame\n",
      "\n",
      "See the caveats in the documentation: https://pandas.pydata.org/pandas-docs/stable/user_guide/indexing.html#returning-a-view-versus-a-copy\n",
      "  temp_sample[feature] = widgets_box[feature].value\n",
      "C:\\Users\\denis\\AppData\\Local\\Temp\\ipykernel_1540\\164060588.py:3: SettingWithCopyWarning: \n",
      "A value is trying to be set on a copy of a slice from a DataFrame\n",
      "\n",
      "See the caveats in the documentation: https://pandas.pydata.org/pandas-docs/stable/user_guide/indexing.html#returning-a-view-versus-a-copy\n",
      "  temp_sample[feature] = widgets_box[feature].value\n",
      "C:\\Users\\denis\\AppData\\Local\\Temp\\ipykernel_1540\\164060588.py:3: SettingWithCopyWarning: \n",
      "A value is trying to be set on a copy of a slice from a DataFrame\n",
      "\n",
      "See the caveats in the documentation: https://pandas.pydata.org/pandas-docs/stable/user_guide/indexing.html#returning-a-view-versus-a-copy\n",
      "  temp_sample[feature] = widgets_box[feature].value\n",
      "C:\\Users\\denis\\AppData\\Local\\Temp\\ipykernel_1540\\164060588.py:3: SettingWithCopyWarning: \n",
      "A value is trying to be set on a copy of a slice from a DataFrame\n",
      "\n",
      "See the caveats in the documentation: https://pandas.pydata.org/pandas-docs/stable/user_guide/indexing.html#returning-a-view-versus-a-copy\n",
      "  temp_sample[feature] = widgets_box[feature].value\n",
      "C:\\Users\\denis\\AppData\\Local\\Temp\\ipykernel_1540\\164060588.py:3: SettingWithCopyWarning: \n",
      "A value is trying to be set on a copy of a slice from a DataFrame\n",
      "\n",
      "See the caveats in the documentation: https://pandas.pydata.org/pandas-docs/stable/user_guide/indexing.html#returning-a-view-versus-a-copy\n",
      "  temp_sample[feature] = widgets_box[feature].value\n",
      "C:\\Users\\denis\\AppData\\Local\\Temp\\ipykernel_1540\\164060588.py:3: SettingWithCopyWarning: \n",
      "A value is trying to be set on a copy of a slice from a DataFrame\n",
      "\n",
      "See the caveats in the documentation: https://pandas.pydata.org/pandas-docs/stable/user_guide/indexing.html#returning-a-view-versus-a-copy\n",
      "  temp_sample[feature] = widgets_box[feature].value\n",
      "C:\\Users\\denis\\AppData\\Local\\Temp\\ipykernel_1540\\164060588.py:3: SettingWithCopyWarning: \n",
      "A value is trying to be set on a copy of a slice from a DataFrame\n",
      "\n",
      "See the caveats in the documentation: https://pandas.pydata.org/pandas-docs/stable/user_guide/indexing.html#returning-a-view-versus-a-copy\n",
      "  temp_sample[feature] = widgets_box[feature].value\n",
      "C:\\Users\\denis\\AppData\\Local\\Temp\\ipykernel_1540\\164060588.py:3: SettingWithCopyWarning: \n",
      "A value is trying to be set on a copy of a slice from a DataFrame\n",
      "\n",
      "See the caveats in the documentation: https://pandas.pydata.org/pandas-docs/stable/user_guide/indexing.html#returning-a-view-versus-a-copy\n",
      "  temp_sample[feature] = widgets_box[feature].value\n",
      "C:\\Users\\denis\\AppData\\Local\\Temp\\ipykernel_1540\\164060588.py:3: SettingWithCopyWarning: \n",
      "A value is trying to be set on a copy of a slice from a DataFrame\n",
      "\n",
      "See the caveats in the documentation: https://pandas.pydata.org/pandas-docs/stable/user_guide/indexing.html#returning-a-view-versus-a-copy\n",
      "  temp_sample[feature] = widgets_box[feature].value\n",
      "C:\\Users\\denis\\AppData\\Local\\Temp\\ipykernel_1540\\164060588.py:3: SettingWithCopyWarning: \n",
      "A value is trying to be set on a copy of a slice from a DataFrame\n",
      "\n",
      "See the caveats in the documentation: https://pandas.pydata.org/pandas-docs/stable/user_guide/indexing.html#returning-a-view-versus-a-copy\n",
      "  temp_sample[feature] = widgets_box[feature].value\n",
      "C:\\Users\\denis\\AppData\\Local\\Temp\\ipykernel_1540\\164060588.py:3: SettingWithCopyWarning: \n",
      "A value is trying to be set on a copy of a slice from a DataFrame\n",
      "\n",
      "See the caveats in the documentation: https://pandas.pydata.org/pandas-docs/stable/user_guide/indexing.html#returning-a-view-versus-a-copy\n",
      "  temp_sample[feature] = widgets_box[feature].value\n"
     ]
    },
    {
     "data": {
      "image/png": "[encoded data removed]",
      "text/plain": [
       "<Figure size 432x288 with 1 Axes>"
      ]
     },
     "metadata": {
      "needs_background": "light"
     },
     "output_type": "display_data"
    }
   ],
   "source": [
    "# Predict the popularity score based on the selected features\n",
    "for feature in range(features):\n",
    "   temp_sample[feature] = widgets_box[feature].value\n",
    "   regression.append(model_regression.predict([temp_sample]))\n",
    "   random_forest.append(model_random_forest.predict([temp_sample]))\n",
    "   decision_tree.append(model_decision_tree.predict([temp_sample]))\n",
    "# plot a simple line chart\n",
    "plt.plot(range(len(regression)), regression, label='Linear Regression')\n",
    "plt.plot(range(len(random_forest)), random_forest, label='Random Forest')\n",
    "plt.plot(range(len(decision_tree)), decision_tree, label='Decision Tree')\n",
    "plt.xlim([0, len(regression)])\n",
    "plt.ylim([0, 100])\n",
    "plt.title(\"Comparison of Popularity Scores Generated by Three Different Models\")\n",
    "plt.legend()\n",
    "plt.show()"
   ]
  }
 ],
 "metadata": {
  "kernelspec": {
   "display_name": "Python 3 (ipykernel)",
   "language": "python",
   "name": "python3"
  },
  "language_info": {
   "codemirror_mode": {
    "name": "ipython",
    "version": 3
   },
   "file_extension": ".py",
   "mimetype": "text/x-python",
   "name": "python",
   "nbconvert_exporter": "python",
   "pygments_lexer": "ipython3",
   "version": "3.9.12"
  }
 },
 "nbformat": 4,
 "nbformat_minor": 5
}
